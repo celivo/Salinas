{
 "cells": [
  {
   "cell_type": "code",
   "execution_count": 1,
   "metadata": {},
   "outputs": [
    {
     "name": "stdout",
     "output_type": "stream",
     "text": [
      "Collecting PyPDF2\n",
      "Installing collected packages: PyPDF2\n",
      "Successfully installed PyPDF2-1.26.0\n",
      "\u001b[33mYou are using pip version 9.0.3, however version 20.1.1 is available.\n",
      "You should consider upgrading via the 'pip install --upgrade pip' command.\u001b[0m\n"
     ]
    }
   ],
   "source": [
    "!pip install PyPDF2"
   ]
  },
  {
   "cell_type": "code",
   "execution_count": 2,
   "metadata": {},
   "outputs": [],
   "source": [
    "import PyPDF2 as pypdf\n",
    "import regex as re\n",
    "import numpy as np\n",
    "import csv\n",
    "import pandas as pd"
   ]
  },
  {
   "cell_type": "code",
   "execution_count": 3,
   "metadata": {},
   "outputs": [
    {
     "data": {
      "text/plain": [
       "<PyPDF2.pdf.PdfFileReader at 0x7f6c812ae320>"
      ]
     },
     "execution_count": 3,
     "metadata": {},
     "output_type": "execute_result"
    }
   ],
   "source": [
    "PDFfile = open(\"bmcc2019-2020.pdf\", \"rb\")\n",
    "pdfread = pypdf.PdfFileReader(PDFfile)\n",
    "pdfread"
   ]
  },
  {
   "cell_type": "code",
   "execution_count": 8,
   "metadata": {},
   "outputs": [
    {
     "data": {
      "text/plain": [
       "\"                                                                  Bay Mills Community College  2019-2020  61 COURSE DESCRIPTIONS  AC  ACCOUNTING AC104    Payroll Accounting    3 CR This class is designed to teach students the skills, procedures, payroll. Basic principles and concepts of accounting and financial reporting will also be covered.   Co-requisites: MA101, and CS112 or CS121.  AC105 QuickBooks for Small Business    3 CR Upon successful completion of the course, students will know how to use a computerized bookkeeping software package for small businesses. Instruction includes information on creating accounts, writing checks, balancing accounts, navigating the program, and more. Prerequisite: None.   AC131 Accounting I    4 CR This is an introductory course in accounting, which includes the recording and reporting of business transactions, and the measuring, planning and controlling of business income, assets and equities.  Co-requisite: MA101 or permission of instructor.  AC132 Accounting II    4 CR This course is a continuation of AC131 with emphasis on managerial/cost accounting concepts.    Prerequisite: AC131 with a C or better.   AE - ACADEMIC ENRICHMENT AE109 Fundamentals of Algebra    4 CR This course is designed as a review of fundamental math skills and developmental algebra. Topics covered include fractions, decimals, ratio and proportion, application problems, charts and graphs, English/Metric measurement, geometry, and an introduction to properties of integers.  Students must meet minimum requirements in this course before enrolling in future math courses.  If minimum requirements are not met, the student receives a grade of Incomplete (I) and must repeat the course.  Developmental in nature, credit in this course does not apply toward graduation.  In order to succeed in this curriculum, it is recommended that you complete the math sequence in a timely manner. Credit in this course does not apply toward college graduation.   Prerequisites: Appropriate placement score less than three years old.  Co-requisite: ED105 is required if the student has completed less than 15 college credits or has a cumulative GPA less than 2.0.  AE111  Reading Comprehension & Written Communication Skills    4 CR This course is designed to improve basic reading comprehension, vocabulary, and basic writing skills for those students requiring assistance as indicated by placement scores.  Emphasis is placed on reading to access basic information; ease and fluency in written expression; and on application of standard grammar, punctuation, and capitalization rules.  Students must pass this course with a C or better to advance to EN102.  If this minimum requirement is not met, the student receives a grade of Incomplete (I) and repeats the course.  Credit in this course does not apply toward college graduation.   Prerequisite: Appropriate placement score.   Co-requisite: ED105 is required if the student has completed less than 15 college credits or has a cumulative GPA less than 2.0.    AG  AGRICULTURE SCIENCE   AG110 Fundamentals of Sustainable Agriculture & Food Systems    3 CR This course will introduce students to the basic characteristics, production methods, and philosophies involved in sustainable agriculture and food systems.  The pros and cons of sustainable systems will be discussed and contrasted with other production methods.  Traditional Anishinaabeg food sources and systems will be explored.  Students will receive 15 hours of seasonally appropriate experiential education at Waishkey Bay Farm.     Prerequisite: None.   BI  BIOLOGY   BI101 Introduction to Biology (Lab required)    4 CR This course is designed to cover selected biological topics to allow the student to gain an understanding and appreciation of basic life functions and mankind's relationship to the environment. This course is designed to fulfill the Natural Science requirement.   Co-requisites:  MA101 and EN111 or permission of instructor.    BI107 Human Biology (Lab required)    4 CR This course is a survey of functional human anatomy and the related physiological processes of normal human activity at the chemical, cellular, tissue, organ, and system levels. It is designed to fulfill the Natural Science requirement.  Prerequisites: high school Biology and Chemistry with B or better, or BI101 or SI112 with C or better, or permission of instructor.  \""
      ]
     },
     "execution_count": 8,
     "metadata": {},
     "output_type": "execute_result"
    }
   ],
   "source": [
    "y = pdfread.getPage(61)\n",
    "y.extractText().replace('\\n', '')"
   ]
  },
  {
   "cell_type": "code",
   "execution_count": 7,
   "metadata": {},
   "outputs": [
    {
     "data": {
      "text/plain": [
       "94"
      ]
     },
     "execution_count": 7,
     "metadata": {},
     "output_type": "execute_result"
    }
   ],
   "source": [
    "pdfread.getNumPages()"
   ]
  },
  {
   "cell_type": "code",
   "execution_count": 13,
   "metadata": {},
   "outputs": [
    {
     "name": "stdout",
     "output_type": "stream",
     "text": [
      "{'AC': 'ACCOUNTING', 'AE': 'ENRICHMENT', 'AG': 'SCIENCE', 'BI': 'BIOLOGY', 'BU': 'BUSINESS', 'CH': 'CHEMISTRY', 'CJ': 'EMPHASIS', 'CIS': 'SYSTEMS', 'CS': '', 'CT': 'TECHNOLOGY', 'EC': 'EDUCATION', 'ED': 'EDUCATION', 'EN': 'ENGLISH', 'ES': '', 'GE': 'GEOGRAPHY', 'HL': '', 'HS': 'HISTORY', 'HU': 'HUMANITIES', 'JR': 'JOURNALISM', 'MT': 'TECHNOLOGY', 'MA': 'MATH', 'NA': 'STUDIES', 'NL': 'LANGUAGE', 'NP': 'PROGRAM', 'NS': 'SCIENCE', 'OE': 'EDUCATION', 'PE': 'EDUCATION', 'PS': 'SCIENCE', 'PY': 'PSYCHOLOGY', 'SI': 'SCIENCE', 'SO': 'SOCIOLOGY'}\n"
     ]
    }
   ],
   "source": [
    "def get_data(csv_name, pdf_name, page_range, pattern, dep_group, abbrev_group, c_group, t_group,\n",
    "            year, grad_status):\n",
    "    \"\"\"Takes in name of PDF in local folder and extracts data in given PAGE_RANGE \n",
    "    using regex expression PATTERN and given group numbers. YEAR is the catalog year.\n",
    "    GRAD_STATUS is either None (if unknown), 'G', 'UG', or a number indicating at\n",
    "    which number is the course graduate.\"\"\"\n",
    "    \n",
    "    PDFfile = open(pdf_name, \"rb\")\n",
    "    pdfread = pypdf.PdfFileReader(PDFfile)\n",
    "    \n",
    "    csv_writer = csv.writer(open(csv_name, 'w'))\n",
    "    csv_writer.writerow([\"Department Name\", \"Course Catalogue Number\", \"Course Name\",\n",
    "     \"Course Description\", \"Graduate/Undergraduate\", \"Format\", \"Lab\", \n",
    "     \"Academic Catalogue Year\"])\n",
    "    FS_keys = [\"agri\", \"food\", \"animal\"]\n",
    "    \n",
    "    look_ahead = pattern + r'(.+?)(?=' + pattern + r')'\n",
    "    \n",
    "    dep_names = {}\n",
    "    #test = page_range[0] #DEBUGGING\n",
    "    for i in np.arange(page_range[0], page_range[1]):\n",
    "        page_text = pdfread.getPage(i).extractText().replace('\\n', '')\n",
    "        matches = re.findall(look_ahead, page_text)\n",
    "        last = re.sub(look_ahead, '', page_text)\n",
    "        last = re.search(pattern + r'(.+)', last)\n",
    "        #print(test) #DEBUGGING\n",
    "        #test += 1 #DEBUGGING\n",
    "        matches = matches + [(last.group(dep_group), last.group(abbrev_group), \n",
    "                    last.group(c_group), last.group(t_group), last.group(5))]\n",
    "        \n",
    "        for match in matches:  \n",
    "            #DEBUG: print(match)\n",
    "            # Getting full department name\n",
    "            if not dep_names.get(match[abbrev_group - 1]):\n",
    "                dep_names[match[abbrev_group - 1]] = match[dep_group - 1]\n",
    "            dep_name = dep_names.get(match[abbrev_group - 1])\n",
    "            \n",
    "            # Other groups\n",
    "            course_num = int(match[c_group - 1][:3])\n",
    "            title = str(match[t_group - 1])\n",
    "            desc = str(match[4]) # assuming description is group 5\n",
    "            \n",
    "            #Filtering\n",
    "            for key in FS_keys:\n",
    "                if (re.search(key, title, flags=re.IGNORECASE) or \n",
    "                    re.search(key, desc, flags=re.IGNORECASE)):\n",
    "                    G_UG = grad_status\n",
    "                    if grad_status:\n",
    "                        if type(grad_status) == int:\n",
    "                            G_UG = \"UG\"\n",
    "                            if int(t.group(1)) >= grad_status:\n",
    "                                G_UG = \"G\"\n",
    "                    lab = False\n",
    "                    if (re.search(r'Laboratory|Lab', title, flags=re.IGNORECASE) or \n",
    "                    re.search(r'Laboratory|Lab', desc, flags=re.IGNORECASE)):\n",
    "                        lab = True\n",
    "                    csv_writer.writerow([dep_name, course_num, title, desc, \n",
    "                                             G_UG, None, lab, year])\n",
    "                                            # Leaving format blank for now\n",
    "                        \n",
    "    print(dep_names)\n",
    "                \n",
    "bmcc_pattern = r'([a-zA-Z]+)?\\s+([\\/a-zA-Z]+)([\\d]+\\w?)\\s([^\\d]+)\\d\\sCR\\s'\n",
    "#Partial Test set:\n",
    "get_data('bmcc_sample.csv', \"bmcc2019-2020.pdf\", [61, 88], bmcc_pattern, \n",
    "         1, 2, 3, 4, '2019-2021', None)"
   ]
  },
  {
   "cell_type": "code",
   "execution_count": 16,
   "metadata": {},
   "outputs": [
    {
     "data": {
      "text/html": [
       "<div>\n",
       "<style scoped>\n",
       "    .dataframe tbody tr th:only-of-type {\n",
       "        vertical-align: middle;\n",
       "    }\n",
       "\n",
       "    .dataframe tbody tr th {\n",
       "        vertical-align: top;\n",
       "    }\n",
       "\n",
       "    .dataframe thead th {\n",
       "        text-align: right;\n",
       "    }\n",
       "</style>\n",
       "<table border=\"1\" class=\"dataframe\">\n",
       "  <thead>\n",
       "    <tr style=\"text-align: right;\">\n",
       "      <th></th>\n",
       "      <th>Department Name</th>\n",
       "      <th>Course Catalogue Number</th>\n",
       "      <th>Course Name</th>\n",
       "      <th>Course Description</th>\n",
       "      <th>Graduate/Undergraduate</th>\n",
       "      <th>Format</th>\n",
       "      <th>Lab</th>\n",
       "      <th>Academic Catalogue Year</th>\n",
       "    </tr>\n",
       "  </thead>\n",
       "  <tbody>\n",
       "    <tr>\n",
       "      <th>0</th>\n",
       "      <td>ENRICHMENT</td>\n",
       "      <td>111</td>\n",
       "      <td>Reading Comprehension &amp; Written Communication...</td>\n",
       "      <td>This course is designed to improve basic readi...</td>\n",
       "      <td>NaN</td>\n",
       "      <td>NaN</td>\n",
       "      <td>False</td>\n",
       "      <td>2019-2021</td>\n",
       "    </tr>\n",
       "    <tr>\n",
       "      <th>1</th>\n",
       "      <td>SCIENCE</td>\n",
       "      <td>110</td>\n",
       "      <td>Fundamentals of Sustainable Agriculture &amp; Food...</td>\n",
       "      <td>This course will introduce students to the bas...</td>\n",
       "      <td>NaN</td>\n",
       "      <td>NaN</td>\n",
       "      <td>False</td>\n",
       "      <td>2019-2021</td>\n",
       "    </tr>\n",
       "    <tr>\n",
       "      <th>2</th>\n",
       "      <td>SCIENCE</td>\n",
       "      <td>110</td>\n",
       "      <td>Fundamentals of Sustainable Agriculture &amp; Food...</td>\n",
       "      <td>This course will introduce students to the bas...</td>\n",
       "      <td>NaN</td>\n",
       "      <td>NaN</td>\n",
       "      <td>False</td>\n",
       "      <td>2019-2021</td>\n",
       "    </tr>\n",
       "    <tr>\n",
       "      <th>3</th>\n",
       "      <td>STUDIES</td>\n",
       "      <td>123</td>\n",
       "      <td>Native American Contributions to Society</td>\n",
       "      <td>Throughout the course, students will look at t...</td>\n",
       "      <td>NaN</td>\n",
       "      <td>NaN</td>\n",
       "      <td>False</td>\n",
       "      <td>2019-2021</td>\n",
       "    </tr>\n",
       "    <tr>\n",
       "      <th>4</th>\n",
       "      <td>STUDIES</td>\n",
       "      <td>123</td>\n",
       "      <td>Native American Contributions to Society</td>\n",
       "      <td>Throughout the course, students will look at t...</td>\n",
       "      <td>NaN</td>\n",
       "      <td>NaN</td>\n",
       "      <td>False</td>\n",
       "      <td>2019-2021</td>\n",
       "    </tr>\n",
       "    <tr>\n",
       "      <th>5</th>\n",
       "      <td>SCIENCE</td>\n",
       "      <td>101</td>\n",
       "      <td>Environmental Science (Lab required)</td>\n",
       "      <td>ip to the environment.  This course will provi...</td>\n",
       "      <td>NaN</td>\n",
       "      <td>NaN</td>\n",
       "      <td>True</td>\n",
       "      <td>2019-2021</td>\n",
       "    </tr>\n",
       "  </tbody>\n",
       "</table>\n",
       "</div>"
      ],
      "text/plain": [
       "  Department Name  Course Catalogue Number  \\\n",
       "0      ENRICHMENT                      111   \n",
       "1         SCIENCE                      110   \n",
       "2         SCIENCE                      110   \n",
       "3         STUDIES                      123   \n",
       "4         STUDIES                      123   \n",
       "5         SCIENCE                      101   \n",
       "\n",
       "                                         Course Name  \\\n",
       "0   Reading Comprehension & Written Communication...   \n",
       "1  Fundamentals of Sustainable Agriculture & Food...   \n",
       "2  Fundamentals of Sustainable Agriculture & Food...   \n",
       "3      Native American Contributions to Society        \n",
       "4      Native American Contributions to Society        \n",
       "5          Environmental Science (Lab required)        \n",
       "\n",
       "                                  Course Description  Graduate/Undergraduate  \\\n",
       "0  This course is designed to improve basic readi...                     NaN   \n",
       "1  This course will introduce students to the bas...                     NaN   \n",
       "2  This course will introduce students to the bas...                     NaN   \n",
       "3  Throughout the course, students will look at t...                     NaN   \n",
       "4  Throughout the course, students will look at t...                     NaN   \n",
       "5  ip to the environment.  This course will provi...                     NaN   \n",
       "\n",
       "   Format    Lab Academic Catalogue Year  \n",
       "0     NaN  False               2019-2021  \n",
       "1     NaN  False               2019-2021  \n",
       "2     NaN  False               2019-2021  \n",
       "3     NaN  False               2019-2021  \n",
       "4     NaN  False               2019-2021  \n",
       "5     NaN   True               2019-2021  "
      ]
     },
     "execution_count": 16,
     "metadata": {},
     "output_type": "execute_result"
    }
   ],
   "source": [
    "pd.read_csv('bmcc_sample.csv')"
   ]
  },
  {
   "cell_type": "code",
   "execution_count": 104,
   "metadata": {},
   "outputs": [
    {
     "data": {
      "text/plain": [
       "'UNIVERSITY OF THE DISTRICT OF COLUMBIA  UNDERGRADUATE AND GRADUATE COURSE CATALOG 2019-2021  274 | Page  Studies textiles with an in-depth study of fiber classification, yarns, fabric construction, finishes and color applications.  Examines  the fabrics commonly used in fashion merchandise for sources of material, construction, comparative qualities and usage from the fashion viewpoint from fiber-to-product cycle. Explores  methods of fiber identification, yarns and construction.  CRIMINAL ADMINISTRATION and LAW ENFORCEMENT  CRIM 203C Introduction to Forensic Investigations (3) '"
      ]
     },
     "execution_count": 104,
     "metadata": {},
     "output_type": "execute_result"
    }
   ],
   "source": [
    "sample = 'UNIVERSITY OF THE DISTRICT OF COLUMBIA  UNDERGRADUATE AND GRADUATE COURSE CATALOG 2019-2021  274 | Page  Studies textiles with an in-depth study of fiber classification, yarns, fabric construction, finishes and color applications.  Examines  the fabrics commonly used in fashion merchandise for sources of material, construction, comparative qualities and usage from the fashion viewpoint from fiber-to-product cycle. Explores  methods of fiber identification, yarns and construction.  CRIMINAL ADMINISTRATION and LAW ENFORCEMENT  FSEM 101C First Year Seminar (1) The First Year Seminar is a unique transition course designed to facilitate  integration into UDC-CCÕs learning community. The course enhances  skills for academic success, develops understanding of community college culture, provides individualized academic advising, and fosters  meaningful educational engagement. Also encourages active participation in the community college and to post-experience reflection.    IGED 110 Foundation Writing I (3) Focuses on expository writing. Includes selected readings and extensive practice in writing essays (e.g., analysis, comparison and contrast, cause and effect). Also reviews grammar and introduces the student to library resources.  IGED 120 Found. Quantitative Reasoning (3) Provides mathematical skills, knowledge, and understanding necessary to function in a technological society. Topics include problem solving, sets and logic, numeration and mathematical systems, linear equations and inequalities, and graphing. Lec. 3 hrs.  POLI 206C Introduction to American Government (3) Introduces the major principles of American government and politics. Focuses on major national institutions of the Presidency, Congress, and the courts.  Also examines federalism, civil rights and civil liberties, and political behavior and dynamics.  CRIM 100C Criminal Justice System (3) Provides an overview of the criminal justice system, including its main elements and functions Also examines the social, political, and cultural considerations that have influenced and shaped system functions and institutions.  CRIM 102C Criminology (3) Introduces  the study of crime using computer software applications. Examines different types of crime and the problems of crime analysis. Stresses the importance of a geographical and demographic analysis of the incidence of crime.  IGED 111 Foundation Writing II (3) Continues the study of the writing process begun in English Composition I. This course focuses on argumentation and analysis with extensive practice in writing and in- depth critical thinking through the use of supplemental readings.  Culminates in the writing of a research paper.  IGED 120 Found. Quantitative Reasoning (3) Continues 1535 101. Explores measurement and geometry, trigonometry of right triangles, consumer mathematics, and introduces probability and statistics. Lec. 3 hrs.  PSYC 137C Psychology of Adjustment (3) Emphasizes the understanding of everyday human behavior through the application of scientific principles derived from research. Examines foundations of psychological adjustment and the development of maladaptive behavior. Discusses human reactions evoked by stressful and frustrating environmental events, as well as reactions to internal sources of frustration. Examines procedures of psychological assessment, change, and newer methods of enhancing adjustment.  CRIM 271C Dynamics of Human Relations (3) Introduces students to theoretical analysis, current research findings, models of helping methods, intervention designs, and follow-up evaluations for the adult and juvenile in criminal justice settings. Provides opportunities to role play and assess r behavior, as well as interact with others -s in evaluation and feedback.  CRIM 203C Introduction to Forensic Investigations (3) '\n",
    "rest = re.sub(udc_pattern + r'(.+?)(?=' + udc_pattern + r')', '',sample)\n",
    "rest"
   ]
  },
  {
   "cell_type": "code",
   "execution_count": 106,
   "metadata": {},
   "outputs": [
    {
     "ename": "AttributeError",
     "evalue": "'NoneType' object has no attribute 'group'",
     "output_type": "error",
     "traceback": [
      "\u001b[0;31m---------------------------------------------------------------------------\u001b[0m",
      "\u001b[0;31mAttributeError\u001b[0m                            Traceback (most recent call last)",
      "\u001b[0;32m<ipython-input-106-9cf0ed396320>\u001b[0m in \u001b[0;36m<module>\u001b[0;34m\u001b[0m\n\u001b[1;32m      1\u001b[0m \u001b[0mrest_match\u001b[0m \u001b[0;34m=\u001b[0m \u001b[0mre\u001b[0m\u001b[0;34m.\u001b[0m\u001b[0msearch\u001b[0m\u001b[0;34m(\u001b[0m\u001b[0mudc_pattern\u001b[0m \u001b[0;34m+\u001b[0m \u001b[0;34mr'(.+)'\u001b[0m\u001b[0;34m,\u001b[0m \u001b[0mrest\u001b[0m\u001b[0;34m)\u001b[0m\u001b[0;34m\u001b[0m\u001b[0;34m\u001b[0m\u001b[0m\n\u001b[0;32m----> 2\u001b[0;31m \u001b[0mprint\u001b[0m\u001b[0;34m(\u001b[0m\u001b[0mrest_match\u001b[0m\u001b[0;34m.\u001b[0m\u001b[0mgroup\u001b[0m\u001b[0;34m(\u001b[0m\u001b[0;36m1\u001b[0m\u001b[0;34m)\u001b[0m\u001b[0;34m)\u001b[0m\u001b[0;34m\u001b[0m\u001b[0;34m\u001b[0m\u001b[0m\n\u001b[0m\u001b[1;32m      3\u001b[0m \u001b[0mprint\u001b[0m\u001b[0;34m(\u001b[0m\u001b[0mrest_match\u001b[0m\u001b[0;34m.\u001b[0m\u001b[0mgroup\u001b[0m\u001b[0;34m(\u001b[0m\u001b[0;36m2\u001b[0m\u001b[0;34m)\u001b[0m\u001b[0;34m)\u001b[0m\u001b[0;34m\u001b[0m\u001b[0;34m\u001b[0m\u001b[0m\n\u001b[1;32m      4\u001b[0m \u001b[0mprint\u001b[0m\u001b[0;34m(\u001b[0m\u001b[0mrest_match\u001b[0m\u001b[0;34m.\u001b[0m\u001b[0mgroup\u001b[0m\u001b[0;34m(\u001b[0m\u001b[0;36m3\u001b[0m\u001b[0;34m)\u001b[0m\u001b[0;34m)\u001b[0m\u001b[0;34m\u001b[0m\u001b[0;34m\u001b[0m\u001b[0m\n\u001b[1;32m      5\u001b[0m \u001b[0mprint\u001b[0m\u001b[0;34m(\u001b[0m\u001b[0mrest_match\u001b[0m\u001b[0;34m.\u001b[0m\u001b[0mgroup\u001b[0m\u001b[0;34m(\u001b[0m\u001b[0;36m4\u001b[0m\u001b[0;34m)\u001b[0m\u001b[0;34m)\u001b[0m\u001b[0;34m\u001b[0m\u001b[0;34m\u001b[0m\u001b[0m\n",
      "\u001b[0;31mAttributeError\u001b[0m: 'NoneType' object has no attribute 'group'"
     ]
    }
   ],
   "source": [
    "rest_match = re.search(udc_pattern + r'(.+)', rest)\n",
    "print(rest_match.group(1))\n",
    "print(rest_match.group(2))\n",
    "print(rest_match.group(3))\n",
    "print(rest_match.group(4))\n",
    "print(rest_match.group(5))"
   ]
  },
  {
   "cell_type": "code",
   "execution_count": 15,
   "metadata": {},
   "outputs": [
    {
     "data": {
      "text/plain": [
       "'20     COURSE  PREFIX  CODE,  TITLE AND COURSE DES CRIPTION      AGR 110 Monitoring/Assessments and Rangeland Management (4)   This course will introduce students to the various grazing management concept, identify local vegetation  communities, identification of local plan ts, as related to current Navajo producers grazing management  systems. Field trips and field works will serve as a lab for hands - on and field experience to learn range  and vegetation monitoring concepts.   '"
      ]
     },
     "execution_count": 15,
     "metadata": {},
     "output_type": "execute_result"
    }
   ],
   "source": [
    "sample = '20     COURSE  PREFIX  CODE,  TITLE AND COURSE DES CRIPTION   ACCOUNTING (ACC)   ACC 100 Fundamentals of Accounting (3)   Prerequisite:     This course is an introduction to accounting fundamentals. It includes journalizing, posting, worksheets,  financial reports, and data processing for accounting. One hour laboratory required.   ACC 200 Financial Accounting (3)      This course covers the theory and practice of accounting in services and merchandising firms. It  emphasizes the accounting cycle, periodic reporting, receivables, payables, inventories, and accounting  systems . One hour laboratory required.   ACC 201 Managerial Accounting (3)      This course is a continuation of ACC 200 with emphasis on manufacturing firms, and managerial  approaches for decision - making. One hour laborato ry required.   ACC 310 Government and Non - Profit   Accounting (3)   Prerequisite: Minimu  .   This course covers the theory and practice of accounting for governmental and not - for - profit units.  Topics include financial reporting; budgetary a ccounting; fund accounts; and nonprofit accounting for  entities such as public colleges, universities and health care providers .   ACC 350 Finance (3)    ACC 310,  BUS 265, ECO 200 or 201.   Introduction to the theories and applications associated with the functions of capital markets. This  includes the conceptual foundations of portfolio theory, risk management, and asset valuation. This  course will examine the markets for equity, money, and  bonds. One hour laboratory required.   AGRICULTURE (AGR)   AGR 103 Conservation Planning (4)   This course introduces students to the understanding natural resource conservation issues and concerns  to allow them to develop conservation plans necessary to improve   natural resource conditions applicable  to tribal lands.   AGR 105 Int roduction to Animal Science (4)   This course will introduce students to animal and livestock industries, production, systems and markets.  Students will not only learn about national product ion but include Navajo Nation livestock industry.   AGR 110 Monitoring/Assessments and Rangeland Management (4)   This course will introduce students to the various grazing management concept, identify local vegetation  communities, identification of local plan ts, as related to current Navajo producers grazing management  systems. Field trips and field works will serve as a lab for hands - on and field experience to learn range  and vegetation monitoring concepts.   '\n",
    "dine_pattern = r'(\\w+\\s\\(\\w{2,3}\\))?\\s+([a-zA-Z]{2,3})\\s([\\d]+\\w?)\\s([^\\d]+)\\(\\d\\)\\s+(.+?)'\n",
    "last = re.sub(dine_pattern + '(?=' + dine_pattern + ')', '', sample)\n",
    "l"
   ]
  },
  {
   "cell_type": "code",
   "execution_count": 9,
   "metadata": {},
   "outputs": [
    {
     "data": {
      "text/plain": [
       "'testtest2'"
      ]
     },
     "execution_count": 9,
     "metadata": {},
     "output_type": "execute_result"
    }
   ],
   "source": [
    "r'test' + r'test2'"
   ]
  },
  {
   "cell_type": "code",
   "execution_count": 15,
   "metadata": {
    "scrolled": true
   },
   "outputs": [
    {
     "data": {
      "text/plain": [
       "'(\\\\w+\\\\s\\\\(\\\\w{2,3}\\\\))?\\\\s+([a-zA-Z]{2,3})\\\\s([\\\\d]+\\\\w?)\\\\s([^\\\\d]+)\\\\(\\\\d\\\\)\\\\s+(.+?)(?=(\\\\w+\\\\s\\\\(\\\\w{2,3}\\\\))?\\\\s+([a-zA-Z]{2,3})\\\\s([\\\\d]+\\\\w?)\\\\s([^\\\\d]+)\\\\(\\\\d\\\\)\\\\s+(.+?))'"
      ]
     },
     "execution_count": 15,
     "metadata": {},
     "output_type": "execute_result"
    }
   ],
   "source": [
    "dine_pattern + r'(?=' + dine_pattern + r')'"
   ]
  },
  {
   "cell_type": "code",
   "execution_count": 33,
   "metadata": {
    "scrolled": true
   },
   "outputs": [
    {
     "data": {
      "text/plain": [
       "('ACCOUNTING (ACC)',\n",
       " 'ACC',\n",
       " '100',\n",
       " 'Fundamentals of Accounting ',\n",
       " 'Prerequisite:     This course is an introduction to accounting fundamentals. It includes journalizing, posting, worksheets,  financial reports, and data processing for accounting. One hour laboratory required.   ACC 200 Financial Accounting (3)      This course covers the theory and practice of accounting in services and merchandising firms. It  emphasizes the accounting cycle, periodic reporting, receivables, payables, inventories, and accounting  systems . One hour laboratory required.   ACC 201 Managerial Accounting (3)      This course is a continuation of ACC 200 with emphasis on manufacturing firms, and managerial  approaches for decision - making. One hour laborato ry required.   ACC 310 Government and Non - Profit   Accounting (3)   Prerequisite: Minimu  .   This course covers the theory and practice of accounting for governmental and not - for - profit units.  Topics include financial reporting; budgetary a ccounting; fund accounts; and nonprofit accounting for  entities such as public colleges, universities and health care providers .   ACC 350 Finance (3)    ACC 310,  BUS 265, ECO 200 or 201.   Introduction to the theories and applications associated with the functions of capital markets. This  includes the conceptual foundations of portfolio theory, risk management, and asset valuation. This  course will examine the markets for equity, money, and  bonds. One hour laboratory required.   AGRICULTURE (AGR)   AGR 103 Conservation Planning (4)   This course introduces students to the understanding natural resource conservation issues and concerns  to allow them to develop conservation plans necessary to improve   natural resource conditions applicable  to tribal lands.   AGR 105 Int roduction to Animal Science (4)   This course will introduce students to animal and livestock industries, production, systems and markets.  Students will not only learn about national product ion but include Navajo Nation livestock industry.  ',\n",
       " '',\n",
       " 'AGR',\n",
       " '110',\n",
       " 'Monitoring/Assessments and Rangeland Management ')"
      ]
     },
     "execution_count": 33,
     "metadata": {},
     "output_type": "execute_result"
    }
   ],
   "source": [
    "sample\n",
    "re.findall(dine_pattern + r'(.+)(?=' + dine_pattern + r')', sample)[0]"
   ]
  },
  {
   "cell_type": "code",
   "execution_count": 65,
   "metadata": {},
   "outputs": [
    {
     "name": "stdout",
     "output_type": "stream",
     "text": [
      "True\n"
     ]
    }
   ],
   "source": [
    "if not None:\n",
    "    print(True)"
   ]
  },
  {
   "cell_type": "code",
   "execution_count": null,
   "metadata": {},
   "outputs": [],
   "source": []
  }
 ],
 "metadata": {
  "kernelspec": {
   "display_name": "Python 3",
   "language": "python",
   "name": "python3"
  },
  "language_info": {
   "codemirror_mode": {
    "name": "ipython",
    "version": 3
   },
   "file_extension": ".py",
   "mimetype": "text/x-python",
   "name": "python",
   "nbconvert_exporter": "python",
   "pygments_lexer": "ipython3",
   "version": "3.6.9"
  }
 },
 "nbformat": 4,
 "nbformat_minor": 4
}
