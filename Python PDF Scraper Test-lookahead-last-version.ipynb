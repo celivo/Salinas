{
 "cells": [
  {
   "cell_type": "code",
   "execution_count": 2,
   "metadata": {},
   "outputs": [
    {
     "name": "stdout",
     "output_type": "stream",
     "text": [
      "Collecting PyPDF2\n",
      "Installing collected packages: PyPDF2\n",
      "Successfully installed PyPDF2-1.26.0\n",
      "\u001b[33mYou are using pip version 9.0.3, however version 20.1.1 is available.\n",
      "You should consider upgrading via the 'pip install --upgrade pip' command.\u001b[0m\n"
     ]
    }
   ],
   "source": [
    "!pip install PyPDF2"
   ]
  },
  {
   "cell_type": "code",
   "execution_count": 53,
   "metadata": {},
   "outputs": [],
   "source": [
    "import PyPDF2 as pypdf\n",
    "import regex as re\n",
    "import numpy as np\n",
    "import csv\n",
    "import pandas as pd"
   ]
  },
  {
   "cell_type": "code",
   "execution_count": 54,
   "metadata": {},
   "outputs": [
    {
     "data": {
      "text/plain": [
       "<PyPDF2.pdf.PdfFileReader at 0x7fa30d05d588>"
      ]
     },
     "execution_count": 54,
     "metadata": {},
     "output_type": "execute_result"
    }
   ],
   "source": [
    "PDFfile = open(\"dinecollege2019-2020.pdf\", \"rb\")\n",
    "pdfread = pypdf.PdfFileReader(PDFfile)\n",
    "pdfread"
   ]
  },
  {
   "cell_type": "code",
   "execution_count": 56,
   "metadata": {},
   "outputs": [
    {
     "data": {
      "text/plain": [
       "'94     SWO 242   Social  Work Practice I   (3)   This course develops generalist social work knowledge and skills for working with and on behalf of  individuals, families, and groups. It will look  at identifying practice skills through the assessment and  treatment phases.   SWO 243  Human Behavior in the  Social  Environment   (3)   This course   develops an understanding of human behavior on a biological and behavioral level. It looks  at  and various methods o f treatment and engages students in issues related to trauma, spiritual  development, disabilities, and bridging the gap of micro and macro levels of practice.   SWO 250 Social Work Ethics   (3)   This course   is designed to educate students on legal and ethical v alues related Social Work. The course  will educate students on the NASW code of ethics and laws related to social work practice. It will also  provide a look at the social worker role in the legal system.     SWO 295 Field Experience I (3)   Prerequisite: ENG 10 1.   Students are placed in community social service agencies for practical social work experience for a  minimum of ten hours per week, offering opportunities to apply skills and to operationalize social  knowledge and values in social work.   SWO 296 Field  Experience II (3)   Prerequisite: ENG 101.   A continuation of SWO 295 with more advanced experiential applications.   THEATER (THR)   THR 101 Introduction to Theater (3)   A survey of theater, including basic elements and principles of production, styles, and  historical  perspectives of theater, dramatic literature, and criticism.     THR 102 Introduction to Acting and Storytelling (3)   The course will incorporate fundamental techniques of acting and storytelling through physical and  vocal expression, improvisation  and monologue scene work, with an emphasis on characterizations and  performance. A class performance of a dramatic production will be the course culmination.   '"
      ]
     },
     "execution_count": 56,
     "metadata": {},
     "output_type": "execute_result"
    }
   ],
   "source": [
    "y = pdfread.getPage(93)\n",
    "y.extractText().replace('\\n', '')"
   ]
  },
  {
   "cell_type": "code",
   "execution_count": 6,
   "metadata": {},
   "outputs": [
    {
     "data": {
      "text/plain": [
       "94"
      ]
     },
     "execution_count": 6,
     "metadata": {},
     "output_type": "execute_result"
    }
   ],
   "source": [
    "pdfread.getNumPages()"
   ]
  },
  {
   "cell_type": "code",
   "execution_count": 47,
   "metadata": {},
   "outputs": [],
   "source": [
    "def get_data(csv_name, pdf_name, page_range, pattern, dep_group, abbrev_group, c_group, t_group,\n",
    "            year, grad_status):\n",
    "    \"\"\"Takes in name of PDF in local folder and extracts data in given PAGE_RANGE \n",
    "    using regex expression PATTERN and given group numbers. YEAR is the catalog year.\n",
    "    GRAD_STATUS is either None (if unknown), 'G', 'UG', or a number indicating at\n",
    "    which number is the course graduate.\"\"\"\n",
    "    \n",
    "    PDFfile = open(pdf_name, \"rb\")\n",
    "    pdfread = pypdf.PdfFileReader(PDFfile)\n",
    "    \n",
    "    csv_writer = csv.writer(open(csv_name, 'w'))\n",
    "    csv_writer.writerow([\"Department Name\", \"Course Catalogue Number\", \"Course Name\",\n",
    "     \"Course Description\", \"Graduate/Undergraduate\", \"Format\", \"Lab\", \n",
    "     \"Academic Catalogue Year\"])\n",
    "    FS_keys = [\"agri\", \"food\", \"animal\"]\n",
    "    \n",
    "    look_ahead = pattern + r'(.+?)(?=' + pattern + r')'\n",
    "    \n",
    "    dep_names = {}\n",
    "    for i in np.arange(page_range[0], page_range[1]):\n",
    "        page_text = pdfread.getPage(i).extractText().replace('\\n', ' ')\n",
    "        matches = re.findall(look_ahead, page_text)\n",
    "        last = re.sub(look_ahead, '', page_text)\n",
    "        last = re.search(pattern + r'(.+)', last)\n",
    "        matches = matches + [(last.group(dep_group), last.group(abbrev_group), \n",
    "                    last.group(c_group), last.group(t_group), last.group(5))]\n",
    "        \n",
    "        for match in matches:  \n",
    "            # Getting full department name\n",
    "            if match[dep_group - 1] != '':\n",
    "                dep_names[match[abbrev_group - 1]] = match[dep_group - 1]\n",
    "            dep_name = dep_names.get(match[abbrev_group - 1])\n",
    "            \n",
    "            # Other groups\n",
    "            course_num = int(match[c_group - 1][:3])\n",
    "            title = str(match[t_group - 1])\n",
    "            desc = str(match[4]) # assuming description is group 5\n",
    "            \n",
    "            #Filtering\n",
    "            for key in FS_keys:\n",
    "                if (re.search(key, title, flags=re.IGNORECASE) or \n",
    "                    re.search(key, desc, flags=re.IGNORECASE)):\n",
    "                    G_UG = grad_status\n",
    "                    if grad_status:\n",
    "                        if type(grad_status) == int:\n",
    "                            G_UG = \"UG\"\n",
    "                            if int(t.group(1)) >= grad_status:\n",
    "                                G_UG = \"G\"\n",
    "                    lab = False\n",
    "                    if (re.search(r'Laboratory|Lab', title, flags=re.IGNORECASE) or \n",
    "                    re.search(r'Laboratory|Lab', desc, flags=re.IGNORECASE)):\n",
    "                        lab = True\n",
    "                    csv_writer.writerow([dep_name, course_num, title, desc, \n",
    "                                             G_UG, None, lab, year])\n",
    "                                            # Leaving format blank for now\n",
    "                \n",
    "dine_pattern = r'([a-zA-Z]+\\s\\(\\w{2,3}\\))?\\s+([\\/a-zA-Z]+)\\s([\\d]+\\w?)\\s([^\\d]+)\\(\\d\\)\\s+'\n",
    "#Partial Test set:\n",
    "get_data('Dine_College_Sample.csv', \"dinecollege2019-2020.pdf\", [19, 94], dine_pattern, \n",
    "         1, 2, 3, 4, '2019-2020', None)"
   ]
  },
  {
   "cell_type": "code",
   "execution_count": 48,
   "metadata": {},
   "outputs": [
    {
     "data": {
      "text/html": [
       "<div>\n",
       "<style scoped>\n",
       "    .dataframe tbody tr th:only-of-type {\n",
       "        vertical-align: middle;\n",
       "    }\n",
       "\n",
       "    .dataframe tbody tr th {\n",
       "        vertical-align: top;\n",
       "    }\n",
       "\n",
       "    .dataframe thead th {\n",
       "        text-align: right;\n",
       "    }\n",
       "</style>\n",
       "<table border=\"1\" class=\"dataframe\">\n",
       "  <thead>\n",
       "    <tr style=\"text-align: right;\">\n",
       "      <th></th>\n",
       "      <th>Department Name</th>\n",
       "      <th>Course Catalogue Number</th>\n",
       "      <th>Course Name</th>\n",
       "      <th>Course Description</th>\n",
       "      <th>Graduate/Undergraduate</th>\n",
       "      <th>Format</th>\n",
       "      <th>Lab</th>\n",
       "      <th>Academic Catalogue Year</th>\n",
       "    </tr>\n",
       "  </thead>\n",
       "  <tbody>\n",
       "    <tr>\n",
       "      <th>0</th>\n",
       "      <td>AGRICULTURE (AGR)</td>\n",
       "      <td>105</td>\n",
       "      <td>Int roduction to Animal Science</td>\n",
       "      <td>This course will introduce students to animal ...</td>\n",
       "      <td>NaN</td>\n",
       "      <td>NaN</td>\n",
       "      <td>False</td>\n",
       "      <td>2019-2020</td>\n",
       "    </tr>\n",
       "    <tr>\n",
       "      <th>1</th>\n",
       "      <td>NaN</td>\n",
       "      <td>160</td>\n",
       "      <td>Navajo Agricult ural History to Present</td>\n",
       "      <td>Note: Cross - listed with Nis 160.   ANT   160...</td>\n",
       "      <td>NaN</td>\n",
       "      <td>NaN</td>\n",
       "      <td>False</td>\n",
       "      <td>2019-2020</td>\n",
       "    </tr>\n",
       "    <tr>\n",
       "      <th>2</th>\n",
       "      <td>NaN</td>\n",
       "      <td>385</td>\n",
       "      <td>Comparative Invertebrate Zoology</td>\n",
       "      <td>Prerequisite: BIO 181.   This course involves ...</td>\n",
       "      <td>NaN</td>\n",
       "      <td>NaN</td>\n",
       "      <td>True</td>\n",
       "      <td>2019-2020</td>\n",
       "    </tr>\n",
       "    <tr>\n",
       "      <th>3</th>\n",
       "      <td>NaN</td>\n",
       "      <td>425</td>\n",
       "      <td>Animal Physiology</td>\n",
       "      <td>Prerequisite or Co - requisite:  BIO 344.   Th...</td>\n",
       "      <td>NaN</td>\n",
       "      <td>NaN</td>\n",
       "      <td>True</td>\n",
       "      <td>2019-2020</td>\n",
       "    </tr>\n",
       "    <tr>\n",
       "      <th>4</th>\n",
       "      <td>ECONOMICS (ECO)</td>\n",
       "      <td>460</td>\n",
       "      <td>Tribal Economic Issues and Development Strateg...</td>\n",
       "      <td>Prerequisite: MGT 420, BUS 460.   This is a ba...</td>\n",
       "      <td>NaN</td>\n",
       "      <td>NaN</td>\n",
       "      <td>True</td>\n",
       "      <td>2019-2020</td>\n",
       "    </tr>\n",
       "    <tr>\n",
       "      <th>5</th>\n",
       "      <td>TECHNOLOGY (ENV)</td>\n",
       "      <td>101</td>\n",
       "      <td>Introduction to Environmental Science</td>\n",
       "      <td>Prerequisite: ENG 075, 085 , MTH 096.   This c...</td>\n",
       "      <td>NaN</td>\n",
       "      <td>NaN</td>\n",
       "      <td>True</td>\n",
       "      <td>2019-2020</td>\n",
       "    </tr>\n",
       "    <tr>\n",
       "      <th>6</th>\n",
       "      <td>TECHNOLOGY (ENV)</td>\n",
       "      <td>110</td>\n",
       "      <td>Introduction to Soils/Lab</td>\n",
       "      <td>Prerequisite: ENV 101.   This course introduce...</td>\n",
       "      <td>NaN</td>\n",
       "      <td>NaN</td>\n",
       "      <td>True</td>\n",
       "      <td>2019-2020</td>\n",
       "    </tr>\n",
       "    <tr>\n",
       "      <th>7</th>\n",
       "      <td>NaN</td>\n",
       "      <td>225</td>\n",
       "      <td>Principles of Agroecology</td>\n",
       "      <td>Prerequisite: ENV 101 or BIO 182.   This cours...</td>\n",
       "      <td>NaN</td>\n",
       "      <td>NaN</td>\n",
       "      <td>False</td>\n",
       "      <td>2019-2020</td>\n",
       "    </tr>\n",
       "    <tr>\n",
       "      <th>8</th>\n",
       "      <td>NaN</td>\n",
       "      <td>450</td>\n",
       "      <td>Diné Resource Management</td>\n",
       "      <td>Prerequisite:  NIS  420.   This course will ex...</td>\n",
       "      <td>NaN</td>\n",
       "      <td>NaN</td>\n",
       "      <td>False</td>\n",
       "      <td>2019-2020</td>\n",
       "    </tr>\n",
       "    <tr>\n",
       "      <th>9</th>\n",
       "      <td>HEALTH (PUH)</td>\n",
       "      <td>141</td>\n",
       "      <td>Nutrition for Health</td>\n",
       "      <td>Prerequisite: ENG 085 and MTH 096.   General c...</td>\n",
       "      <td>NaN</td>\n",
       "      <td>NaN</td>\n",
       "      <td>False</td>\n",
       "      <td>2019-2020</td>\n",
       "    </tr>\n",
       "    <tr>\n",
       "      <th>10</th>\n",
       "      <td>HEALTH (PUH)</td>\n",
       "      <td>201</td>\n",
       "      <td>Principles of Environmental Public Health</td>\n",
       "      <td>Prerequisite: ENG 101 , PUH 111 or E NV 101.  ...</td>\n",
       "      <td>NaN</td>\n",
       "      <td>NaN</td>\n",
       "      <td>False</td>\n",
       "      <td>2019-2020</td>\n",
       "    </tr>\n",
       "    <tr>\n",
       "      <th>11</th>\n",
       "      <td>NaN</td>\n",
       "      <td>202</td>\n",
       "      <td>Uranium and Environmental Health</td>\n",
       "      <td>Prerequisite: Completion of ENG 075 or reading...</td>\n",
       "      <td>NaN</td>\n",
       "      <td>NaN</td>\n",
       "      <td>False</td>\n",
       "      <td>2019-2020</td>\n",
       "    </tr>\n",
       "  </tbody>\n",
       "</table>\n",
       "</div>"
      ],
      "text/plain": [
       "      Department Name  Course Catalogue Number  \\\n",
       "0   AGRICULTURE (AGR)                      105   \n",
       "1                 NaN                      160   \n",
       "2                 NaN                      385   \n",
       "3                 NaN                      425   \n",
       "4     ECONOMICS (ECO)                      460   \n",
       "5    TECHNOLOGY (ENV)                      101   \n",
       "6    TECHNOLOGY (ENV)                      110   \n",
       "7                 NaN                      225   \n",
       "8                 NaN                      450   \n",
       "9        HEALTH (PUH)                      141   \n",
       "10       HEALTH (PUH)                      201   \n",
       "11                NaN                      202   \n",
       "\n",
       "                                          Course Name  \\\n",
       "0                    Int roduction to Animal Science    \n",
       "1           Navajo Agricult ural History to Present     \n",
       "2                   Comparative Invertebrate Zoology    \n",
       "3                                  Animal Physiology    \n",
       "4   Tribal Economic Issues and Development Strateg...   \n",
       "5              Introduction to Environmental Science    \n",
       "6                          Introduction to Soils/Lab    \n",
       "7                          Principles of Agroecology    \n",
       "8                           Diné Resource Management    \n",
       "9                               Nutrition for Health    \n",
       "10         Principles of Environmental Public Health    \n",
       "11                  Uranium and Environmental Health    \n",
       "\n",
       "                                   Course Description  Graduate/Undergraduate  \\\n",
       "0   This course will introduce students to animal ...                     NaN   \n",
       "1   Note: Cross - listed with Nis 160.   ANT   160...                     NaN   \n",
       "2   Prerequisite: BIO 181.   This course involves ...                     NaN   \n",
       "3   Prerequisite or Co - requisite:  BIO 344.   Th...                     NaN   \n",
       "4   Prerequisite: MGT 420, BUS 460.   This is a ba...                     NaN   \n",
       "5   Prerequisite: ENG 075, 085 , MTH 096.   This c...                     NaN   \n",
       "6   Prerequisite: ENV 101.   This course introduce...                     NaN   \n",
       "7   Prerequisite: ENV 101 or BIO 182.   This cours...                     NaN   \n",
       "8   Prerequisite:  NIS  420.   This course will ex...                     NaN   \n",
       "9   Prerequisite: ENG 085 and MTH 096.   General c...                     NaN   \n",
       "10  Prerequisite: ENG 101 , PUH 111 or E NV 101.  ...                     NaN   \n",
       "11  Prerequisite: Completion of ENG 075 or reading...                     NaN   \n",
       "\n",
       "    Format    Lab Academic Catalogue Year  \n",
       "0      NaN  False               2019-2020  \n",
       "1      NaN  False               2019-2020  \n",
       "2      NaN   True               2019-2020  \n",
       "3      NaN   True               2019-2020  \n",
       "4      NaN   True               2019-2020  \n",
       "5      NaN   True               2019-2020  \n",
       "6      NaN   True               2019-2020  \n",
       "7      NaN  False               2019-2020  \n",
       "8      NaN  False               2019-2020  \n",
       "9      NaN  False               2019-2020  \n",
       "10     NaN  False               2019-2020  \n",
       "11     NaN  False               2019-2020  "
      ]
     },
     "execution_count": 48,
     "metadata": {},
     "output_type": "execute_result"
    }
   ],
   "source": [
    "pd.read_csv('Dine_College_Sample.csv')"
   ]
  },
  {
   "cell_type": "code",
   "execution_count": 23,
   "metadata": {},
   "outputs": [
    {
     "data": {
      "text/plain": [
       "'20     COURSE  PREFIX  CODE,  TITLE AND COURSE DES CRIPTION      AGR 110 Monitoring/Assessments and Rangeland Management (4)   This course will introduce students to the various grazing management concept, identify local vegetation  communities, identification of local plan ts, as related to current Navajo producers grazing management  systems. Field trips and field works will serve as a lab for hands - on and field experience to learn range  and vegetation monitoring concepts.   '"
      ]
     },
     "execution_count": 23,
     "metadata": {},
     "output_type": "execute_result"
    }
   ],
   "source": [
    "sample = '20     COURSE  PREFIX  CODE,  TITLE AND COURSE DES CRIPTION   ACCOUNTING (ACC)   ACC 100 Fundamentals of Accounting (3)   Prerequisite:     This course is an introduction to accounting fundamentals. It includes journalizing, posting, worksheets,  financial reports, and data processing for accounting. One hour laboratory required.   ACC 200 Financial Accounting (3)      This course covers the theory and practice of accounting in services and merchandising firms. It  emphasizes the accounting cycle, periodic reporting, receivables, payables, inventories, and accounting  systems . One hour laboratory required.   ACC 201 Managerial Accounting (3)      This course is a continuation of ACC 200 with emphasis on manufacturing firms, and managerial  approaches for decision - making. One hour laborato ry required.   ACC 310 Government and Non - Profit   Accounting (3)   Prerequisite: Minimu  .   This course covers the theory and practice of accounting for governmental and not - for - profit units.  Topics include financial reporting; budgetary a ccounting; fund accounts; and nonprofit accounting for  entities such as public colleges, universities and health care providers .   ACC 350 Finance (3)    ACC 310,  BUS 265, ECO 200 or 201.   Introduction to the theories and applications associated with the functions of capital markets. This  includes the conceptual foundations of portfolio theory, risk management, and asset valuation. This  course will examine the markets for equity, money, and  bonds. One hour laboratory required.   AGRICULTURE (AGR)   AGR 103 Conservation Planning (4)   This course introduces students to the understanding natural resource conservation issues and concerns  to allow them to develop conservation plans necessary to improve   natural resource conditions applicable  to tribal lands.   AGR 105 Int roduction to Animal Science (4)   This course will introduce students to animal and livestock industries, production, systems and markets.  Students will not only learn about national product ion but include Navajo Nation livestock industry.   AGR 110 Monitoring/Assessments and Rangeland Management (4)   This course will introduce students to the various grazing management concept, identify local vegetation  communities, identification of local plan ts, as related to current Navajo producers grazing management  systems. Field trips and field works will serve as a lab for hands - on and field experience to learn range  and vegetation monitoring concepts.   '\n",
    "rest = re.sub(dine_pattern + r'(.+?)(?=' + dine_pattern + r')', '',sample)\n",
    "rest"
   ]
  },
  {
   "cell_type": "code",
   "execution_count": 34,
   "metadata": {},
   "outputs": [
    {
     "name": "stdout",
     "output_type": "stream",
     "text": [
      "None\n",
      "<class 'str'>\n",
      "110\n",
      "Monitoring/Assessments and Rangeland Management \n",
      "This course will introduce students to the various grazing management concept, identify local vegetation  communities, identification of local plan ts, as related to current Navajo producers grazing management  systems. Field trips and field works will serve as a lab for hands - on and field experience to learn range  and vegetation monitoring concepts.   \n"
     ]
    }
   ],
   "source": [
    "rest_match = re.search(dine_pattern + r'(.+)', rest)\n",
    "print(rest_match.group(1))\n",
    "print(type(rest_match.group(2)))\n",
    "print(rest_match.group(3))\n",
    "print(rest_match.group(4))\n",
    "print(rest_match.group(5))"
   ]
  },
  {
   "cell_type": "code",
   "execution_count": 15,
   "metadata": {},
   "outputs": [
    {
     "data": {
      "text/plain": [
       "'20     COURSE  PREFIX  CODE,  TITLE AND COURSE DES CRIPTION      AGR 110 Monitoring/Assessments and Rangeland Management (4)   This course will introduce students to the various grazing management concept, identify local vegetation  communities, identification of local plan ts, as related to current Navajo producers grazing management  systems. Field trips and field works will serve as a lab for hands - on and field experience to learn range  and vegetation monitoring concepts.   '"
      ]
     },
     "execution_count": 15,
     "metadata": {},
     "output_type": "execute_result"
    }
   ],
   "source": [
    "sample = '20     COURSE  PREFIX  CODE,  TITLE AND COURSE DES CRIPTION   ACCOUNTING (ACC)   ACC 100 Fundamentals of Accounting (3)   Prerequisite:     This course is an introduction to accounting fundamentals. It includes journalizing, posting, worksheets,  financial reports, and data processing for accounting. One hour laboratory required.   ACC 200 Financial Accounting (3)      This course covers the theory and practice of accounting in services and merchandising firms. It  emphasizes the accounting cycle, periodic reporting, receivables, payables, inventories, and accounting  systems . One hour laboratory required.   ACC 201 Managerial Accounting (3)      This course is a continuation of ACC 200 with emphasis on manufacturing firms, and managerial  approaches for decision - making. One hour laborato ry required.   ACC 310 Government and Non - Profit   Accounting (3)   Prerequisite: Minimu  .   This course covers the theory and practice of accounting for governmental and not - for - profit units.  Topics include financial reporting; budgetary a ccounting; fund accounts; and nonprofit accounting for  entities such as public colleges, universities and health care providers .   ACC 350 Finance (3)    ACC 310,  BUS 265, ECO 200 or 201.   Introduction to the theories and applications associated with the functions of capital markets. This  includes the conceptual foundations of portfolio theory, risk management, and asset valuation. This  course will examine the markets for equity, money, and  bonds. One hour laboratory required.   AGRICULTURE (AGR)   AGR 103 Conservation Planning (4)   This course introduces students to the understanding natural resource conservation issues and concerns  to allow them to develop conservation plans necessary to improve   natural resource conditions applicable  to tribal lands.   AGR 105 Int roduction to Animal Science (4)   This course will introduce students to animal and livestock industries, production, systems and markets.  Students will not only learn about national product ion but include Navajo Nation livestock industry.   AGR 110 Monitoring/Assessments and Rangeland Management (4)   This course will introduce students to the various grazing management concept, identify local vegetation  communities, identification of local plan ts, as related to current Navajo producers grazing management  systems. Field trips and field works will serve as a lab for hands - on and field experience to learn range  and vegetation monitoring concepts.   '\n",
    "dine_pattern = r'(\\w+\\s\\(\\w{2,3}\\))?\\s+([a-zA-Z]{2,3})\\s([\\d]+\\w?)\\s([^\\d]+)\\(\\d\\)\\s+(.+?)'\n",
    "last = re.sub(dine_pattern + '(?=' + dine_pattern + ')', '', sample)\n",
    "l"
   ]
  },
  {
   "cell_type": "code",
   "execution_count": 9,
   "metadata": {},
   "outputs": [
    {
     "data": {
      "text/plain": [
       "'testtest2'"
      ]
     },
     "execution_count": 9,
     "metadata": {},
     "output_type": "execute_result"
    }
   ],
   "source": [
    "r'test' + r'test2'"
   ]
  },
  {
   "cell_type": "code",
   "execution_count": 15,
   "metadata": {
    "scrolled": true
   },
   "outputs": [
    {
     "data": {
      "text/plain": [
       "'(\\\\w+\\\\s\\\\(\\\\w{2,3}\\\\))?\\\\s+([a-zA-Z]{2,3})\\\\s([\\\\d]+\\\\w?)\\\\s([^\\\\d]+)\\\\(\\\\d\\\\)\\\\s+(.+?)(?=(\\\\w+\\\\s\\\\(\\\\w{2,3}\\\\))?\\\\s+([a-zA-Z]{2,3})\\\\s([\\\\d]+\\\\w?)\\\\s([^\\\\d]+)\\\\(\\\\d\\\\)\\\\s+(.+?))'"
      ]
     },
     "execution_count": 15,
     "metadata": {},
     "output_type": "execute_result"
    }
   ],
   "source": [
    "dine_pattern + r'(?=' + dine_pattern + r')'"
   ]
  },
  {
   "cell_type": "code",
   "execution_count": 33,
   "metadata": {},
   "outputs": [
    {
     "data": {
      "text/plain": [
       "('ACCOUNTING (ACC)',\n",
       " 'ACC',\n",
       " '100',\n",
       " 'Fundamentals of Accounting ',\n",
       " 'Prerequisite:     This course is an introduction to accounting fundamentals. It includes journalizing, posting, worksheets,  financial reports, and data processing for accounting. One hour laboratory required.   ACC 200 Financial Accounting (3)      This course covers the theory and practice of accounting in services and merchandising firms. It  emphasizes the accounting cycle, periodic reporting, receivables, payables, inventories, and accounting  systems . One hour laboratory required.   ACC 201 Managerial Accounting (3)      This course is a continuation of ACC 200 with emphasis on manufacturing firms, and managerial  approaches for decision - making. One hour laborato ry required.   ACC 310 Government and Non - Profit   Accounting (3)   Prerequisite: Minimu  .   This course covers the theory and practice of accounting for governmental and not - for - profit units.  Topics include financial reporting; budgetary a ccounting; fund accounts; and nonprofit accounting for  entities such as public colleges, universities and health care providers .   ACC 350 Finance (3)    ACC 310,  BUS 265, ECO 200 or 201.   Introduction to the theories and applications associated with the functions of capital markets. This  includes the conceptual foundations of portfolio theory, risk management, and asset valuation. This  course will examine the markets for equity, money, and  bonds. One hour laboratory required.   AGRICULTURE (AGR)   AGR 103 Conservation Planning (4)   This course introduces students to the understanding natural resource conservation issues and concerns  to allow them to develop conservation plans necessary to improve   natural resource conditions applicable  to tribal lands.   AGR 105 Int roduction to Animal Science (4)   This course will introduce students to animal and livestock industries, production, systems and markets.  Students will not only learn about national product ion but include Navajo Nation livestock industry.  ',\n",
       " '',\n",
       " 'AGR',\n",
       " '110',\n",
       " 'Monitoring/Assessments and Rangeland Management ')"
      ]
     },
     "execution_count": 33,
     "metadata": {},
     "output_type": "execute_result"
    }
   ],
   "source": [
    "sample\n",
    "re.findall(dine_pattern + r'(.+)(?=' + dine_pattern + r')', sample)[0]"
   ]
  }
 ],
 "metadata": {
  "kernelspec": {
   "display_name": "Python 3",
   "language": "python",
   "name": "python3"
  },
  "language_info": {
   "codemirror_mode": {
    "name": "ipython",
    "version": 3
   },
   "file_extension": ".py",
   "mimetype": "text/x-python",
   "name": "python",
   "nbconvert_exporter": "python",
   "pygments_lexer": "ipython3",
   "version": "3.6.9"
  }
 },
 "nbformat": 4,
 "nbformat_minor": 4
}
