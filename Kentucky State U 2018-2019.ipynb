{
 "cells": [
  {
   "cell_type": "code",
   "execution_count": 10,
   "metadata": {},
   "outputs": [
    {
     "name": "stdout",
     "output_type": "stream",
     "text": [
      "Requirement already satisfied: PyPDF2 in /srv/app/venv/lib/python3.6/site-packages\n",
      "\u001b[33mYou are using pip version 9.0.3, however version 20.1.1 is available.\n",
      "You should consider upgrading via the 'pip install --upgrade pip' command.\u001b[0m\n"
     ]
    }
   ],
   "source": [
    "!pip install PyPDF2"
   ]
  },
  {
   "cell_type": "code",
   "execution_count": 11,
   "metadata": {},
   "outputs": [],
   "source": [
    "import PyPDF2 as pypdf\n",
    "import regex as re\n",
    "import numpy as np\n",
    "import csv\n",
    "import pandas as pd"
   ]
  },
  {
   "cell_type": "code",
   "execution_count": 12,
   "metadata": {},
   "outputs": [
    {
     "data": {
      "text/plain": [
       "<PyPDF2.pdf.PdfFileReader at 0x7f5fd35afc50>"
      ]
     },
     "execution_count": 12,
     "metadata": {},
     "output_type": "execute_result"
    }
   ],
   "source": [
    "PDFfile = open(\"2018-2019-Kentucky-State-University-Catalogue.pdf\", \"rb\")\n",
    "pdfread = pypdf.PdfFileReader(PDFfile)\n",
    "pdfread"
   ]
  },
  {
   "cell_type": "code",
   "execution_count": 13,
   "metadata": {},
   "outputs": [
    {
     "data": {
      "text/plain": [
       "'156  Course Descriptions  AFRICAN-AMERICAN STUDIES  AAS 303/ART 303: African-American Art History. A course designed to reveal contributions and accomplishments of African-American artists and the influence of traditional early African art on art of the world. Credit: 3 semester hours.  AAS 314/HIS 314: African-Americans in the United States. The history of African-Americans in the United States, their role in the development of this country, and their struggle for rights, privileges, and protections of citizenship. Prerequisite(s): HIS 201 and HIS 202, or consent of instructor. Credit: 3 semester hours.  AAS 323/MUS 323: African-American Music. A study of the development of African-American music, including spirituals, blues, jazz, symphonic literature, and miscellaneous songs. Open to non-Music majors. Credit: 3 semester hours  AAS 325/MUS 325: Jazz History and Literature. A survey of jazz, including its origins, major performers, and composers. All idioms and styles are studied using selected readings and recordings. Open to non-Music majors. Credit: 3 semester hours.  AAS 365/HIS 365: African History to 1870. A survey tracing the earliest beginnings of man in Africa and the development of sub-and trans-Saharan civilizations. Prerequisites: HIS 101 and HIS 102. Credit: 3 semester hours.  AAS 366/HIS 366: African History from 1870. The creation and development of European colonial empires in Africa and the subsequent rise of independent African states. Prerequisites: HIS 101 and HIS 102. Credit: 3 semester hours.  AAS 409/ENG 409: Literature of African-Americans. A study of representative literary works written by African Americans from    Phillis Wheatley   to the present. Prerequisite: ENG 211. Credit: 3 semester hours.  AAS 411/HIS 411: African-Americans in the Twentieth Century. A thorough study of the contributions of African Americans to American culture and their struggle for full citizenship in the United States. Prerequisites: HIS 201 and HIS 202. Credit: 3 semester hours.  ACCOUNTING  ACC 201: Principles of Accounting I. An introduction to current accounting theory and practice, including accounting concepts, principles, financial statements, the accounting cycle, and selected assets such as cash, receivables, inventory and long-term assets. Prerequisites: MAT 115 or higher, BUA 101 and BUA 102 with grades of C or better or consent of instructor. Credit: 3 semester hours.  ACC 202: Principles of Accounting II. A continuation of ACC 201. A study of accounting fundamentals including current liabilities, partnerships, corporations, the statement of cash flows, investments and financial performance evaluation, and accounting information for managerial decision-making. Prerequisites: ACC 201, BUA 101 and BUA 102, all with grades of C or better or consent of instructor. Credit: 3 semester hours.  ACC 300: Managerial Accounting. An exploration of decision-making tools and use of accounting information used by internal management for directing Prerequisites: ACC 201, BUA 101 and BUA 102, all with grades of C or better or consent of instructor. Credit: 3 semester hours.  ACC 301: Intermediate Accounting I. A comprehensive study of concepts and principles underlying corporate financial accounting and reporting. Emphasis is given to current assets and operating assets. Prerequisites: ACC 202, BUA 101 and BUA 102, all with grades of C or better or consent of instructor. Credit: 3 semester hours.  ACC 302: Intermediate Accounting II. A study of investments, current and long-term liabilities, changes and error analysis, statement of cash flows, and interperiod income tax allocation. Prerequisite: ACC 301. A continuation of ACC 301. Credit: 3 semester hours.  ACC 303: Intermediate Accounting III. This course is a continuation of ACC 301 and 302. The course consists of a comprehensive study of concepts and principles underlying current financial accounting and reporting practices, including IFRS. Prerequisites: ACC 302 with grade of C or better. Topics include pensions, leases, accounting changes and error analysis, accounting for income taxes, statement of cash flows, governmental and non-profit accounting, business combinations and consolidated financial statements. Credit: 3 semester hours.  ACC 308: Cost Accounting I. The study of cost behavior from a managerial perspective. The principles, practices, and procedures involved in collecting, assembling, analyzing, and controlling manufacturing costs are examined. Prerequisites: ACC 202, BUA 101 and BUA 102, all with grades of C or better or consent of instructor. Credit: 3 semester hours.  ACC 324: Accounting Information Systems. An exploration of the flow of accounting information and '"
      ]
     },
     "execution_count": 13,
     "metadata": {},
     "output_type": "execute_result"
    }
   ],
   "source": [
    "y = pdfread.getPage(164)\n",
    "y.extractText().replace('\\n', '')"
   ]
  },
  {
   "cell_type": "code",
   "execution_count": 14,
   "metadata": {},
   "outputs": [],
   "source": [
    "regex = r'([A-Z\\s?]+)?\\s{2}([A-Z]{3,4})\\s+(\\d{3,4})\\/?(.+?):?(.+?)\\.'"
   ]
  },
  {
   "cell_type": "code",
   "execution_count": 28,
   "metadata": {},
   "outputs": [
    {
     "ename": "AttributeError",
     "evalue": "'NoneType' object has no attribute 'group'",
     "output_type": "error",
     "traceback": [
      "\u001b[0;31m---------------------------------------------------------------------------\u001b[0m",
      "\u001b[0;31mAttributeError\u001b[0m                            Traceback (most recent call last)",
      "\u001b[0;32m<ipython-input-28-fd336d7a32e8>\u001b[0m in \u001b[0;36m<module>\u001b[0;34m\u001b[0m\n\u001b[1;32m     72\u001b[0m \u001b[0;31m#Partial Test set:\u001b[0m\u001b[0;34m\u001b[0m\u001b[0;34m\u001b[0m\u001b[0;34m\u001b[0m\u001b[0m\n\u001b[1;32m     73\u001b[0m get_data('KentuckyStateU.csv', \"2018-2019-Kentucky-State-University-Catalogue.pdf\", [164, 253], kentucky_pattern, \n\u001b[0;32m---> 74\u001b[0;31m          1, 2, 3, 5, '2018-2019', None)\n\u001b[0m",
      "\u001b[0;32m<ipython-input-28-fd336d7a32e8>\u001b[0m in \u001b[0;36mget_data\u001b[0;34m(csv_name, pdf_name, page_range, pattern, dep_group, abbrev_group, c_group, t_group, year, grad_status)\u001b[0m\n\u001b[1;32m     26\u001b[0m         \u001b[0;31m#print(test) #DEBUGGING\u001b[0m\u001b[0;34m\u001b[0m\u001b[0;34m\u001b[0m\u001b[0;34m\u001b[0m\u001b[0m\n\u001b[1;32m     27\u001b[0m         \u001b[0;31m#test += 1 #DEBUGGING\u001b[0m\u001b[0;34m\u001b[0m\u001b[0;34m\u001b[0m\u001b[0;34m\u001b[0m\u001b[0m\n\u001b[0;32m---> 28\u001b[0;31m         matches = matches + [(last.group(dep_group), last.group(abbrev_group), \n\u001b[0m\u001b[1;32m     29\u001b[0m                     last.group(c_group), last.group(t_group), last.group(5))]\n\u001b[1;32m     30\u001b[0m \u001b[0;34m\u001b[0m\u001b[0m\n",
      "\u001b[0;31mAttributeError\u001b[0m: 'NoneType' object has no attribute 'group'"
     ]
    }
   ],
   "source": [
    "def get_data(csv_name, pdf_name, page_range, pattern, dep_group, abbrev_group, c_group, t_group,\n",
    "            year, grad_status):\n",
    "    \"\"\"Takes in name of PDF in local folder and extracts data in given PAGE_RANGE \n",
    "    using regex expression PATTERN and given group numbers. YEAR is the catalog year.\n",
    "    GRAD_STATUS is either None (if unknown), 'G', 'UG', or a number indicating at\n",
    "    which number is the course graduate.\"\"\"\n",
    "    \n",
    "    PDFfile = open(pdf_name, \"rb\")\n",
    "    pdfread = pypdf.PdfFileReader(PDFfile)\n",
    "    \n",
    "    csv_writer = csv.writer(open(csv_name, 'w'))\n",
    "    csv_writer.writerow([\"Department Name\", \"Course Catalogue Number\", \"Course Name\",\n",
    "     \"Course Description\", \"Graduate/Undergraduate\", \"Format\", \"Lab\", \n",
    "     \"Academic Catalogue Year\"])\n",
    "    FS_keys = [\"agri\", \"food\", \"animal\"]\n",
    "    \n",
    "    look_ahead = pattern + r'(.+?)(?=' + pattern + r')'\n",
    "    \n",
    "    dep_names = {}\n",
    "    #test = page_range[0] #DEBUGGING\n",
    "    for i in np.arange(page_range[0], page_range[1]):\n",
    "        page_text = pdfread.getPage(i).extractText().replace('\\n', '')\n",
    "        matches = re.findall(look_ahead, page_text)\n",
    "        last = re.sub(look_ahead, '', page_text)\n",
    "        last = re.search(pattern + r'(.+)', last)\n",
    "        #print(test) #DEBUGGING\n",
    "        #test += 1 #DEBUGGING\n",
    "        matches = matches + [(last.group(dep_group), last.group(abbrev_group), \n",
    "                    last.group(c_group), last.group(t_group), last.group(5))]\n",
    "        \n",
    "        for match in matches:  \n",
    "            #DEBUG: print(match)\n",
    "            # Getting full department name\n",
    "            if not dep_names.get(match[abbrev_group - 1]):\n",
    "                dep_names[match[abbrev_group - 1]] = match[dep_group - 1]\n",
    "            dep_name = dep_names.get(match[abbrev_group - 1])\n",
    "            if dep_name != None:\n",
    "                saved_dep_name = dep_name\n",
    "                if len(dep_name) <2 :\n",
    "                    dep_name = match[abbrev_group - 1] #tried this need to improve it \n",
    "            if dep_name == None:\n",
    "                dep_name = saved_dep_name\n",
    "            \n",
    "                \n",
    "            # Other groups\n",
    "            course_num = match[abbrev_group - 1] + (match[c_group - 1][:3]) #added the abbrevation in front of number for those that don't have department name separate\n",
    "\n",
    "            title = str(match[t_group - 1])\n",
    "            desc = str(match[4]) # assuming description is group 5\n",
    "            \n",
    "            #Filtering\n",
    "            for key in FS_keys:\n",
    "                if (re.search(key, title, flags=re.IGNORECASE) or \n",
    "                    re.search(key, desc, flags=re.IGNORECASE)):\n",
    "                    G_UG = grad_status\n",
    "                    if grad_status:\n",
    "                        if type(grad_status) == int:\n",
    "                            G_UG = \"UG\"\n",
    "                            if int(t.group(1)) >= grad_status:\n",
    "                                G_UG = \"G\"\n",
    "                    lab = False\n",
    "                    if (re.search(r'Laboratory|Lab', title, flags=re.IGNORECASE) or \n",
    "                    re.search(r'Laboratory|Lab', desc, flags=re.IGNORECASE)):\n",
    "                        lab = True\n",
    "                    csv_writer.writerow([dep_name, course_num, title, desc, \n",
    "                                             G_UG, None, lab, year])\n",
    "                                            # Leaving format blank for now\n",
    "                        \n",
    "    print(dep_names)\n",
    "                \n",
    "kentucky_pattern = r'([A-Z\\s?]+)?\\s{2}?([A-Z]{3,4})\\s+(\\d{3,4})\\/?(.+?):?(.+?)\\.'\n",
    "#Partial Test set:\n",
    "get_data('KentuckyStateU.csv', \"2018-2019-Kentucky-State-University-Catalogue.pdf\", [164, 253], kentucky_pattern, \n",
    "         1, 2, 3, 5, '2018-2019', None)"
   ]
  },
  {
   "cell_type": "code",
   "execution_count": null,
   "metadata": {},
   "outputs": [],
   "source": []
  }
 ],
 "metadata": {
  "kernelspec": {
   "display_name": "Python 3",
   "language": "python",
   "name": "python3"
  },
  "language_info": {
   "codemirror_mode": {
    "name": "ipython",
    "version": 3
   },
   "file_extension": ".py",
   "mimetype": "text/x-python",
   "name": "python",
   "nbconvert_exporter": "python",
   "pygments_lexer": "ipython3",
   "version": "3.6.9"
  }
 },
 "nbformat": 4,
 "nbformat_minor": 4
}
