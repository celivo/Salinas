{
 "cells": [
  {
   "cell_type": "code",
   "execution_count": 2,
   "metadata": {
    "scrolled": true
   },
   "outputs": [
    {
     "name": "stdout",
     "output_type": "stream",
     "text": [
      "Collecting PyPDF2\n",
      "Installing collected packages: PyPDF2\n",
      "Successfully installed PyPDF2-1.26.0\n",
      "\u001b[33mYou are using pip version 9.0.3, however version 20.1.1 is available.\n",
      "You should consider upgrading via the 'pip install --upgrade pip' command.\u001b[0m\n"
     ]
    }
   ],
   "source": [
    "!pip install PyPDF2"
   ]
  },
  {
   "cell_type": "code",
   "execution_count": 40,
   "metadata": {
    "scrolled": false
   },
   "outputs": [
    {
     "name": "stdout",
     "output_type": "stream",
     "text": [
      "Collecting textract\n",
      "  Downloading https://files.pythonhosted.org/packages/32/31/ef9451e6e48a1a57e337c5f20d4ef58c1a13d91560d2574c738b1320bb8d/textract-1.6.3-py3-none-any.whl\n",
      "Collecting docx2txt==0.8 (from textract)\n",
      "  Downloading https://files.pythonhosted.org/packages/7d/7d/60ee3f2b16d9bfdfa72e8599470a2c1a5b759cb113c6fe1006be28359327/docx2txt-0.8.tar.gz\n",
      "Requirement already satisfied: chardet==3.0.4 in /srv/app/venv/lib/python3.6/site-packages (from textract)\n",
      "Collecting python-pptx==0.6.18 (from textract)\n",
      "  Downloading https://files.pythonhosted.org/packages/bf/86/eb979f7b0333ec769041aae36df8b9f1bd8bea5bbad44620663890dce561/python-pptx-0.6.18.tar.gz (8.9MB)\n",
      "\u001b[K    100% |████████████████████████████████| 8.9MB 105kB/s eta 0:00:01\n",
      "\u001b[?25hCollecting argcomplete==1.10.0 (from textract)\n",
      "  Downloading https://files.pythonhosted.org/packages/4d/82/f44c9661e479207348a979b1f6f063625d11dc4ca6256af053719bbb0124/argcomplete-1.10.0-py2.py3-none-any.whl\n",
      "Collecting SpeechRecognition==3.8.1 (from textract)\n",
      "  Downloading https://files.pythonhosted.org/packages/26/e1/7f5678cd94ec1234269d23756dbdaa4c8cfaed973412f88ae8adf7893a50/SpeechRecognition-3.8.1-py2.py3-none-any.whl (32.8MB)\n",
      "\u001b[K    100% |████████████████████████████████| 32.8MB 27kB/s  eta 0:00:01\n",
      "\u001b[?25hCollecting xlrd==1.2.0 (from textract)\n",
      "  Downloading https://files.pythonhosted.org/packages/b0/16/63576a1a001752e34bf8ea62e367997530dc553b689356b9879339cf45a4/xlrd-1.2.0-py2.py3-none-any.whl (103kB)\n",
      "\u001b[K    100% |████████████████████████████████| 112kB 3.8MB/s eta 0:00:01\n",
      "\u001b[?25hCollecting beautifulsoup4==4.8.0 (from textract)\n",
      "  Downloading https://files.pythonhosted.org/packages/1a/b7/34eec2fe5a49718944e215fde81288eec1fa04638aa3fb57c1c6cd0f98c3/beautifulsoup4-4.8.0-py3-none-any.whl (97kB)\n",
      "\u001b[K    100% |████████████████████████████████| 102kB 3.7MB/s ta 0:00:01\n",
      "\u001b[?25hCollecting pdfminer.six==20181108 (from textract)\n",
      "  Downloading https://files.pythonhosted.org/packages/8a/fd/6e8746e6965d1a7ea8e97253e3d79e625da5547e8f376f88de5d024bacb9/pdfminer.six-20181108-py2.py3-none-any.whl (5.6MB)\n",
      "\u001b[K    100% |████████████████████████████████| 5.6MB 219kB/s eta 0:00:01\n",
      "\u001b[?25hCollecting six==1.12.0 (from textract)\n",
      "  Downloading https://files.pythonhosted.org/packages/73/fb/00a976f728d0d1fecfe898238ce23f502a721c0ac0ecfedb80e0d88c64e9/six-1.12.0-py2.py3-none-any.whl\n",
      "Collecting extract-msg==0.23.1 (from textract)\n",
      "  Downloading https://files.pythonhosted.org/packages/a1/90/84485a914ed90adb5e87df17e626be04162fbba146dfecf34643659a4633/extract_msg-0.23.1-py2.py3-none-any.whl (45kB)\n",
      "\u001b[K    100% |████████████████████████████████| 51kB 2.4MB/s eta 0:00:01\n",
      "\u001b[?25hCollecting EbookLib==0.17.1 (from textract)\n",
      "  Downloading https://files.pythonhosted.org/packages/00/38/7d6ab2e569a9165249619d73b7bc6be0e713a899a3bc2513814b6598a84c/EbookLib-0.17.1.tar.gz (111kB)\n",
      "\u001b[K    100% |████████████████████████████████| 112kB 3.6MB/s eta 0:00:01\n",
      "\u001b[?25hRequirement already satisfied: lxml>=3.1.0 in /srv/app/venv/lib/python3.6/site-packages (from python-pptx==0.6.18->textract)\n",
      "Requirement already satisfied: Pillow>=3.3.2 in /srv/app/venv/lib/python3.6/site-packages (from python-pptx==0.6.18->textract)\n",
      "Collecting XlsxWriter>=0.5.7 (from python-pptx==0.6.18->textract)\n",
      "  Downloading https://files.pythonhosted.org/packages/c8/a2/e5f28b67b7d883c9a6585c0ef32b4bb002bff0292b3008f3d6d3fc7eee59/XlsxWriter-1.2.9-py2.py3-none-any.whl (141kB)\n",
      "\u001b[K    100% |████████████████████████████████| 143kB 3.2MB/s eta 0:00:01\n",
      "\u001b[?25hCollecting soupsieve>=1.2 (from beautifulsoup4==4.8.0->textract)\n",
      "  Downloading https://files.pythonhosted.org/packages/6f/8f/457f4a5390eeae1cc3aeab89deb7724c965be841ffca6cfca9197482e470/soupsieve-2.0.1-py3-none-any.whl\n",
      "Collecting sortedcontainers (from pdfminer.six==20181108->textract)\n",
      "  Using cached https://files.pythonhosted.org/packages/23/8c/22a47a4bf8c5289e4ed946d2b0e4df62bca385b9599cc1e46878f2e2529c/sortedcontainers-2.2.2-py2.py3-none-any.whl\n",
      "Collecting pycryptodome (from pdfminer.six==20181108->textract)\n",
      "  Using cached https://files.pythonhosted.org/packages/af/16/da16a22d47bac9bf9db39f3b9af74e8eeed8855c0df96be20b580ef92fff/pycryptodome-3.9.7-cp36-cp36m-manylinux1_x86_64.whl\n",
      "Requirement already satisfied: olefile==0.46 in /srv/app/venv/lib/python3.6/site-packages (from extract-msg==0.23.1->textract)\n",
      "Collecting tzlocal==1.5.1 (from extract-msg==0.23.1->textract)\n",
      "  Downloading https://files.pythonhosted.org/packages/cb/89/e3687d3ed99bc882793f82634e9824e62499fdfdc4b1ae39e211c5b05017/tzlocal-1.5.1.tar.gz\n",
      "Collecting imapclient==2.1.0 (from extract-msg==0.23.1->textract)\n",
      "  Downloading https://files.pythonhosted.org/packages/dc/39/e1c2c2c6e2356ab6ea81fcfc0a74b044b311d6a91a45300811d9a6077ef7/IMAPClient-2.1.0-py2.py3-none-any.whl (73kB)\n",
      "\u001b[K    100% |████████████████████████████████| 81kB 3.3MB/s eta 0:00:01\n",
      "\u001b[?25hRequirement already satisfied: pytz in /srv/app/venv/lib/python3.6/site-packages (from tzlocal==1.5.1->extract-msg==0.23.1->textract)\n",
      "Building wheels for collected packages: docx2txt, python-pptx, EbookLib, tzlocal\n",
      "  Running setup.py bdist_wheel for docx2txt ... \u001b[?25ldone\n",
      "\u001b[?25h  Stored in directory: /home/jovyan/.cache/pip/wheels/b2/1f/26/a051209bbb77fc6bcfae2bb7e01fa0ff941b82292ab084d596\n",
      "  Running setup.py bdist_wheel for python-pptx ... \u001b[?25ldone\n",
      "\u001b[?25h  Stored in directory: /home/jovyan/.cache/pip/wheels/1f/1f/2c/29acca422b420a0b5210bd2cd7e9669804520d602d2462f20b\n",
      "  Running setup.py bdist_wheel for EbookLib ... \u001b[?25ldone\n",
      "\u001b[?25h  Stored in directory: /home/jovyan/.cache/pip/wheels/84/11/01/951369cbbf8f96878786a1f4da68bd7ac19a5d945b38e03d54\n",
      "  Running setup.py bdist_wheel for tzlocal ... \u001b[?25ldone\n",
      "\u001b[?25h  Stored in directory: /home/jovyan/.cache/pip/wheels/15/ae/df/a67bf1ed84e9bf230187d36d8dcfd30072bea0236cb059ed91\n",
      "Successfully built docx2txt python-pptx EbookLib tzlocal\n",
      "Installing collected packages: docx2txt, XlsxWriter, python-pptx, argcomplete, SpeechRecognition, xlrd, soupsieve, beautifulsoup4, six, sortedcontainers, pycryptodome, pdfminer.six, tzlocal, imapclient, extract-msg, EbookLib, textract\n",
      "  Found existing installation: beautifulsoup4 4.6.0\n",
      "    Uninstalling beautifulsoup4-4.6.0:\n",
      "      Successfully uninstalled beautifulsoup4-4.6.0\n",
      "  Found existing installation: six 1.15.0\n",
      "    Uninstalling six-1.15.0:\n",
      "      Successfully uninstalled six-1.15.0\n",
      "Successfully installed EbookLib-0.17.1 SpeechRecognition-3.8.1 XlsxWriter-1.2.9 argcomplete-1.10.0 beautifulsoup4-4.8.0 docx2txt-0.8 extract-msg-0.23.1 imapclient-2.1.0 pdfminer.six-20181108 pycryptodome-3.9.7 python-pptx-0.6.18 six-1.12.0 sortedcontainers-2.2.2 soupsieve-2.0.1 textract-1.6.3 tzlocal-1.5.1 xlrd-1.2.0\n",
      "\u001b[33mYou are using pip version 9.0.3, however version 20.1.1 is available.\n",
      "You should consider upgrading via the 'pip install --upgrade pip' command.\u001b[0m\n"
     ]
    }
   ],
   "source": [
    "!pip install textract"
   ]
  },
  {
   "cell_type": "code",
   "execution_count": 56,
   "metadata": {},
   "outputs": [],
   "source": [
    "import textract\n",
    "text = textract.process(\"Sisseton Wahpeton Community College2019_2021.pdf\")"
   ]
  },
  {
   "cell_type": "code",
   "execution_count": 70,
   "metadata": {},
   "outputs": [
    {
     "data": {
      "text/plain": [
       "' TR 180, TR 280 Special Topics  Significant issues or consideration of particular technical aspects of building trades are possible investigations. (1-3)  TR 190, TR 290 Independent Study  Advanced study of one or more selected topics according to students’ special needs and interests in the area of building trades. A course not listed as a regular offering in the catalog. Requires objectives, scope of work and plan of study specified by instructor and/or student. Consent of advisor and VPAA. May be taken more than one time. (1-3)  TR 295 General Building Trades Internship Supervised experience in a General Building Trades related position. Students can choose the setting for internship. Internship specifics will be determined by setting supervisor and instructor. (3)  EL 101 Fundamentals of Electrical Construction  This course is currently under development.  MA 101 Fundamentals of Concrete Masonry  This course will introduce the fundamentals of masonry trade. History, tools, equipment, and safety practice will be studied. Types of materials, the use of brick, block, and concrete in construction and mixing mortar will be covered. (3)  PL 101 Fundamentals of Plumbing  Cour se provides basic plumbing principles and covers the use of tools and materials specific to the trade. (3) FARRIER SCIENCE  FS 101 Equine Anatomy & Physiology  Over  all equine anatomy, emphasis on legs and feet, form to function-why things work like they do, proper movement, confirmation. (3)  FS 102 Equine Hoof Trimming, Shoeing, and Horsemanship Lab  This cour se will be a lab wher e students will be shown and then work on all types of horses learning safety and properly trim, shoe, and handle a horse. Each different horse will present opportunities for learning a multitude of topics. (3)  FS 103 Principles of Equine Genetics  Students will learn how genetics/breeding affects the physical, mental, athleticism, and disposition of the horse. (3)  FS 104 Introduction to Forging  Students will lear n safe forging skills to build horse shoes, rasps knives, and other metal forging projects. (3)  FS 105 Therapeutic and Corrective Shoeing  Students will learn how to determine lameness, unsoundness issues in horses, and to trim and apply appropriate shoes, pads, and treatments to restore soundness when possible and comfort when not. (3)  FS 106 Advanced Equine Trimming, Shoeing, and Horsemanship Lab  Students will build on skills learned in FS 101-103. Students will be expected to know what and how to trim & shoe problem horses with emphasis on corrective & therapeutic shoeing. Students will practice how to deal with different horses and work at forge building shoes. (3)  FS 180 Special Topics  Significant issues or  consideration of particular technical aspects of farrier science and horsemanship are possible investigations.  MISCELLANEOUS  TR 105 Trades Lab  Wor k exper ience in a lab setting covering areas requested in the general building trades technology program. (2)  TR 108 Blueprint Reading for the Trades Outlines principles of interpreting blueprints and trade specifications common to the building trades. (3)  TR 109 Facilities Management  Students will lear n skills for care of different types of buildings and homes, it will also include site layout for buildings, and how to works in the trades in a safe environment. (3)  TR 110 Fundamentals of Plumbing & Electrical  This course will be study of the basic electrical and plumbing principles covering the use of tools and materials specific to the trade. (3)  snoitpircseD esruoC 07'"
      ]
     },
     "execution_count": 70,
     "metadata": {},
     "output_type": "execute_result"
    }
   ],
   "source": [
    "text.decode('utf-8').replace('\\n', '').split('\\x0c')[69]"
   ]
  },
  {
   "cell_type": "code",
   "execution_count": 3,
   "metadata": {},
   "outputs": [],
   "source": [
    "import PyPDF2 as pypdf\n",
    "import regex as re\n",
    "import numpy as np\n",
    "import csv\n",
    "import pandas as pd"
   ]
  },
  {
   "cell_type": "code",
   "execution_count": 64,
   "metadata": {},
   "outputs": [
    {
     "data": {
      "text/plain": [
       "<PyPDF2.pdf.PdfFileReader at 0x7f45dec8dcf8>"
      ]
     },
     "execution_count": 64,
     "metadata": {},
     "output_type": "execute_result"
    }
   ],
   "source": [
    "PDFfile = open(\"Sisseton Wahpeton Community College2019_2021.pdf\", \"rb\")\n",
    "pdfread = pypdf.PdfFileReader(PDFfile)\n",
    "pdfread"
   ]
  },
  {
   "cell_type": "code",
   "execution_count": 65,
   "metadata": {},
   "outputs": [
    {
     "data": {
      "text/plain": [
       "'  '"
      ]
     },
     "execution_count": 65,
     "metadata": {},
     "output_type": "execute_result"
    }
   ],
   "source": [
    "y = pdfread.getPage(51)\n",
    "y.extractText().replace('\\n', '')"
   ]
  },
  {
   "cell_type": "code",
   "execution_count": 5,
   "metadata": {},
   "outputs": [
    {
     "data": {
      "text/plain": [
       "285"
      ]
     },
     "execution_count": 5,
     "metadata": {},
     "output_type": "execute_result"
    }
   ],
   "source": [
    "pdfread.getNumPages()"
   ]
  },
  {
   "cell_type": "code",
   "execution_count": 19,
   "metadata": {},
   "outputs": [
    {
     "name": "stdout",
     "output_type": "stream",
     "text": [
      "{}\n",
      "{'ECH': 'EDUCATION'}\n",
      "{'ECH': 'EDUCATION'}\n",
      "{'ECH': 'EDUCATION'}\n",
      "{'ECH': 'EDUCATION'}\n",
      "{'ECH': 'EDUCATION'}\n",
      "{'ECH': 'EDUCATION'}\n",
      "{'ECH': 'EDUCATION'}\n"
     ]
    }
   ],
   "source": [
    "def get_data(csv_name, pdf_name, page_range, pattern, dep_group, abbrev_group, c_group, t_group, desc_group,\n",
    "            year, grad_status):\n",
    "    \"\"\"Takes in name of PDF in local folder and extracts data in given PAGE_RANGE \n",
    "    using regex expression PATTERN and given group numbers. YEAR is the catalog year.\n",
    "    GRAD_STATUS is either None (if unknown), 'G', 'UG', or a number indicating at\n",
    "    which number is the course graduate.\"\"\"\n",
    "    \n",
    "    PDFfile = open(pdf_name, \"rb\")\n",
    "    pdfread = pypdf.PdfFileReader(PDFfile)\n",
    "    \n",
    "    csv_writer = csv.writer(open(csv_name, 'w'))\n",
    "    csv_writer.writerow([\"Department Name\", \"Course Catalogue Number\", \"Course Name\",\n",
    "     \"Course Description\", \"Graduate/Undergraduate\", \"Format\", \"Lab\", \n",
    "     \"Academic Catalogue Year\"])\n",
    "    FS_keys = [\"agri\", \"food\", \"animal\"]\n",
    "    \n",
    "    look_ahead = pattern + r'(.+?)(?=' + pattern + r')'\n",
    "    \n",
    "    dep_names = {}\n",
    "    #test = page_range[0] #DEBUGGING\n",
    "    text = ''\n",
    "    for i in np.arange(page_range[0], page_range[1]):\n",
    "    #    print(test) #DEBUGGING\n",
    "    #    test += 1 #DEBUGGING\n",
    "        text += pdfread.getPage(i).extractText().replace('\\n', ' ')    \n",
    "    matches = re.findall(look_ahead, text)\n",
    "    last = re.sub(look_ahead, '', text)\n",
    "    last = re.search(pattern + r'(.+)', last)\n",
    "    matches = matches + [last.groups()]\n",
    "\n",
    "    for match in matches:  \n",
    "        #print(match) #DEBUGGING\n",
    "        # Getting full department name\n",
    "        print(dep_names)\n",
    "        if not dep_names.get(match[abbrev_group - 1]):\n",
    "            dep_names[match[abbrev_group - 1]] = match[dep_group - 1]\n",
    "        dep_name = dep_names.get(match[abbrev_group - 1])\n",
    "\n",
    "        # Other groups\n",
    "        course_num = int(match[c_group - 1])\n",
    "        title = str(match[t_group - 1])\n",
    "        desc = str(match[desc_group - 1]) # assuming description is group 5\n",
    "\n",
    "        #Filtering\n",
    "        #for key in FS_keys:\n",
    "        #    if (re.search(key, title, flags=re.IGNORECASE) or \n",
    "        #        re.search(key, desc, flags=re.IGNORECASE)):\n",
    "        G_UG = grad_status\n",
    "        if grad_status:\n",
    "            if type(grad_status) == int:\n",
    "                G_UG = \"UG\"\n",
    "                if int(t.group(1)) >= grad_status:\n",
    "                    G_UG = \"G\"\n",
    "        lab = False\n",
    "        if (re.search(r'Laboratory|Lab', title, flags=re.IGNORECASE) or \n",
    "        re.search(r'Laboratory|Lab', desc, flags=re.IGNORECASE)):\n",
    "            lab = True\n",
    "        csv_writer.writerow([dep_name, course_num, title, desc, \n",
    "                                 G_UG, None, lab, year])\n",
    "                                # Leaving format blank for now\n",
    "                        \n",
    "    print(dep_names)\n",
    "                \n",
    "pattern = r'(([A-Z]+)[A-Z\\s]+\\s)?([A-Z]+)\\s(\\d+)(.+?)(\\sPre\\s-requisite.+?)?\\d\\s{0,2}credits'\n",
    "#Partial Test set:\n",
    "get_data('OglalaLakota_sample.csv', \"OglalaLakota2019-2020.pdf\", [98, 99], pattern, \n",
    "         2, 3, 4, 5, 7, '2019-2020', None)"
   ]
  },
  {
   "cell_type": "code",
   "execution_count": 20,
   "metadata": {},
   "outputs": [
    {
     "data": {
      "text/html": [
       "<div>\n",
       "<style scoped>\n",
       "    .dataframe tbody tr th:only-of-type {\n",
       "        vertical-align: middle;\n",
       "    }\n",
       "\n",
       "    .dataframe tbody tr th {\n",
       "        vertical-align: top;\n",
       "    }\n",
       "\n",
       "    .dataframe thead th {\n",
       "        text-align: right;\n",
       "    }\n",
       "</style>\n",
       "<table border=\"1\" class=\"dataframe\">\n",
       "  <thead>\n",
       "    <tr style=\"text-align: right;\">\n",
       "      <th></th>\n",
       "      <th>Department Name</th>\n",
       "      <th>Course Catalogue Number</th>\n",
       "      <th>Course Name</th>\n",
       "      <th>Course Description</th>\n",
       "      <th>Graduate/Undergraduate</th>\n",
       "      <th>Format</th>\n",
       "      <th>Lab</th>\n",
       "      <th>Academic Catalogue Year</th>\n",
       "    </tr>\n",
       "  </thead>\n",
       "  <tbody>\n",
       "    <tr>\n",
       "      <th>0</th>\n",
       "      <td>EDUCATION</td>\n",
       "      <td>203</td>\n",
       "      <td>Introduction toEarly  Childhood Education</td>\n",
       "      <td>. This course provides anintroduction tothe fi...</td>\n",
       "      <td>NaN</td>\n",
       "      <td>NaN</td>\n",
       "      <td>False</td>\n",
       "      <td>2019-2020</td>\n",
       "    </tr>\n",
       "    <tr>\n",
       "      <th>1</th>\n",
       "      <td>EDUCATION</td>\n",
       "      <td>213</td>\n",
       "      <td>Planning andAdministrating Early Childhood Pro...</td>\n",
       "      <td>. This course introduces the students tothe st...</td>\n",
       "      <td>NaN</td>\n",
       "      <td>NaN</td>\n",
       "      <td>False</td>\n",
       "      <td>2019-2020</td>\n",
       "    </tr>\n",
       "    <tr>\n",
       "      <th>2</th>\n",
       "      <td>EDUCATION</td>\n",
       "      <td>223</td>\n",
       "      <td>Materials &amp;Techniques for Infant/Toddler/Pre -...</td>\n",
       "      <td>. This course will help the candidate todevelo...</td>\n",
       "      <td>NaN</td>\n",
       "      <td>NaN</td>\n",
       "      <td>False</td>\n",
       "      <td>2019-2020</td>\n",
       "    </tr>\n",
       "    <tr>\n",
       "      <th>3</th>\n",
       "      <td>EDUCATION</td>\n",
       "      <td>233</td>\n",
       "      <td>Curriculum for Self -Awareness andIndividual D...</td>\n",
       "      <td>. This course isdesigned toprovide candidates ...</td>\n",
       "      <td>NaN</td>\n",
       "      <td>NaN</td>\n",
       "      <td>False</td>\n",
       "      <td>2019-2020</td>\n",
       "    </tr>\n",
       "    <tr>\n",
       "      <th>4</th>\n",
       "      <td>EDUCATION</td>\n",
       "      <td>243</td>\n",
       "      <td>Early Childhood Specialty Internship</td>\n",
       "      <td>. Candidates will complete atotal of135hours o...</td>\n",
       "      <td>NaN</td>\n",
       "      <td>NaN</td>\n",
       "      <td>False</td>\n",
       "      <td>2019-2020</td>\n",
       "    </tr>\n",
       "    <tr>\n",
       "      <th>5</th>\n",
       "      <td>EDUCATION</td>\n",
       "      <td>253</td>\n",
       "      <td>Parental Staff and Community Involvement inEar...</td>\n",
       "      <td>. This course introduces the candidate tothe i...</td>\n",
       "      <td>NaN</td>\n",
       "      <td>NaN</td>\n",
       "      <td>False</td>\n",
       "      <td>2019-2020</td>\n",
       "    </tr>\n",
       "    <tr>\n",
       "      <th>6</th>\n",
       "      <td>EDUCATION</td>\n",
       "      <td>323</td>\n",
       "      <td>Materials &amp;Techniques IIfor  Infant, Toddler, ...</td>\n",
       "      <td>. This course will help candidates todevelop m...</td>\n",
       "      <td>NaN</td>\n",
       "      <td>NaN</td>\n",
       "      <td>False</td>\n",
       "      <td>2019-2020</td>\n",
       "    </tr>\n",
       "  </tbody>\n",
       "</table>\n",
       "</div>"
      ],
      "text/plain": [
       "  Department Name  Course Catalogue Number  \\\n",
       "0       EDUCATION                      203   \n",
       "1       EDUCATION                      213   \n",
       "2       EDUCATION                      223   \n",
       "3       EDUCATION                      233   \n",
       "4       EDUCATION                      243   \n",
       "5       EDUCATION                      253   \n",
       "6       EDUCATION                      323   \n",
       "\n",
       "                                         Course Name  \\\n",
       "0          Introduction toEarly  Childhood Education   \n",
       "1  Planning andAdministrating Early Childhood Pro...   \n",
       "2  Materials &Techniques for Infant/Toddler/Pre -...   \n",
       "3  Curriculum for Self -Awareness andIndividual D...   \n",
       "4               Early Childhood Specialty Internship   \n",
       "5  Parental Staff and Community Involvement inEar...   \n",
       "6  Materials &Techniques IIfor  Infant, Toddler, ...   \n",
       "\n",
       "                                  Course Description  Graduate/Undergraduate  \\\n",
       "0  . This course provides anintroduction tothe fi...                     NaN   \n",
       "1  . This course introduces the students tothe st...                     NaN   \n",
       "2  . This course will help the candidate todevelo...                     NaN   \n",
       "3  . This course isdesigned toprovide candidates ...                     NaN   \n",
       "4  . Candidates will complete atotal of135hours o...                     NaN   \n",
       "5  . This course introduces the candidate tothe i...                     NaN   \n",
       "6  . This course will help candidates todevelop m...                     NaN   \n",
       "\n",
       "   Format    Lab Academic Catalogue Year  \n",
       "0     NaN  False               2019-2020  \n",
       "1     NaN  False               2019-2020  \n",
       "2     NaN  False               2019-2020  \n",
       "3     NaN  False               2019-2020  \n",
       "4     NaN  False               2019-2020  \n",
       "5     NaN  False               2019-2020  \n",
       "6     NaN  False               2019-2020  "
      ]
     },
     "execution_count": 20,
     "metadata": {},
     "output_type": "execute_result"
    }
   ],
   "source": [
    "pd.read_csv('OglalaLakota_sample.csv')"
   ]
  },
  {
   "cell_type": "code",
   "execution_count": 13,
   "metadata": {},
   "outputs": [
    {
     "data": {
      "text/plain": [
       "'HCA 2533 3 Hours Utilization of Community Resources Students will be taught the value of fostering good community relations that directly impact program services. The function of various community services will be assessed as well as the study of those resources to enhance the quality of assistance to clients.'"
      ]
     },
     "execution_count": 13,
     "metadata": {},
     "output_type": "execute_result"
    }
   ],
   "source": [
    "sample = 'HCA 2513                                           3 Hours Community Health A course designed to create an awareness of current trends, basic issues, controversial issues, and fundamental principles in Health Promotion and Health Education. Particular emphasis will be placed in promoting the physical, mental, and social welfare of citizens in schools and communities based on The Healthy People 2020: Health Promotion and Disease Prevention Objectives. HCA 2523                                            3 Hours Personal and Family Living The course addresses the personal and family relationships throughout the family life cycle. Students will gain insight into their role in society. Areas of concentration are decision making, communication, marriage, parenting, dealing with family issues from a Native American perspective. HCA 2533 3 Hours Utilization of Community Resources Students will be taught the value of fostering good community relations that directly impact program services. The function of various community services will be assessed as well as the study of those resources to enhance the quality of assistance to clients.'\n",
    "rest = re.sub(cmn_pattern + r'(.+?)(?=' + cmn_pattern + r')', '',sample)\n",
    "rest"
   ]
  },
  {
   "cell_type": "code",
   "execution_count": 18,
   "metadata": {},
   "outputs": [
    {
     "name": "stdout",
     "output_type": "stream",
     "text": [
      "None\n",
      "HCA\n",
      "2533\n",
      "Utilization of Community Resources\n",
      "Students will be taught the value of fostering good community relations that directly impact program services. The function of various community services will be assessed as well as the study of those resources to enhance the quality of assistance to clients.\n"
     ]
    },
    {
     "data": {
      "text/plain": [
       "(None,\n",
       " None,\n",
       " 'HCA',\n",
       " '2533',\n",
       " 'Utilization of Community Resources',\n",
       " ' be',\n",
       " 'Students will be taught the value of fostering good community relations that directly impact program services. The function of various community services will be assessed as well as the study of those resources to enhance the quality of assistance to clients.')"
      ]
     },
     "execution_count": 18,
     "metadata": {},
     "output_type": "execute_result"
    }
   ],
   "source": [
    "rest_match = re.search(cmn_pattern + r'(.+)', rest)\n",
    "print(rest_match.group(2))\n",
    "print(rest_match.group(3))\n",
    "print(rest_match.group(4))\n",
    "print(rest_match.group(5))\n",
    "print(rest_match.group(7))\n",
    "rest_match.groups()"
   ]
  },
  {
   "cell_type": "code",
   "execution_count": 15,
   "metadata": {},
   "outputs": [
    {
     "data": {
      "text/plain": [
       "'20     COURSE  PREFIX  CODE,  TITLE AND COURSE DES CRIPTION      AGR 110 Monitoring/Assessments and Rangeland Management (4)   This course will introduce students to the various grazing management concept, identify local vegetation  communities, identification of local plan ts, as related to current Navajo producers grazing management  systems. Field trips and field works will serve as a lab for hands - on and field experience to learn range  and vegetation monitoring concepts.   '"
      ]
     },
     "execution_count": 15,
     "metadata": {},
     "output_type": "execute_result"
    }
   ],
   "source": [
    "sample = '20     COURSE  PREFIX  CODE,  TITLE AND COURSE DES CRIPTION   ACCOUNTING (ACC)   ACC 100 Fundamentals of Accounting (3)   Prerequisite:     This course is an introduction to accounting fundamentals. It includes journalizing, posting, worksheets,  financial reports, and data processing for accounting. One hour laboratory required.   ACC 200 Financial Accounting (3)      This course covers the theory and practice of accounting in services and merchandising firms. It  emphasizes the accounting cycle, periodic reporting, receivables, payables, inventories, and accounting  systems . One hour laboratory required.   ACC 201 Managerial Accounting (3)      This course is a continuation of ACC 200 with emphasis on manufacturing firms, and managerial  approaches for decision - making. One hour laborato ry required.   ACC 310 Government and Non - Profit   Accounting (3)   Prerequisite: Minimu  .   This course covers the theory and practice of accounting for governmental and not - for - profit units.  Topics include financial reporting; budgetary a ccounting; fund accounts; and nonprofit accounting for  entities such as public colleges, universities and health care providers .   ACC 350 Finance (3)    ACC 310,  BUS 265, ECO 200 or 201.   Introduction to the theories and applications associated with the functions of capital markets. This  includes the conceptual foundations of portfolio theory, risk management, and asset valuation. This  course will examine the markets for equity, money, and  bonds. One hour laboratory required.   AGRICULTURE (AGR)   AGR 103 Conservation Planning (4)   This course introduces students to the understanding natural resource conservation issues and concerns  to allow them to develop conservation plans necessary to improve   natural resource conditions applicable  to tribal lands.   AGR 105 Int roduction to Animal Science (4)   This course will introduce students to animal and livestock industries, production, systems and markets.  Students will not only learn about national product ion but include Navajo Nation livestock industry.   AGR 110 Monitoring/Assessments and Rangeland Management (4)   This course will introduce students to the various grazing management concept, identify local vegetation  communities, identification of local plan ts, as related to current Navajo producers grazing management  systems. Field trips and field works will serve as a lab for hands - on and field experience to learn range  and vegetation monitoring concepts.   '\n",
    "dine_pattern = r'(\\w+\\s\\(\\w{2,3}\\))?\\s+([a-zA-Z]{2,3})\\s([\\d]+\\w?)\\s([^\\d]+)\\(\\d\\)\\s+(.+?)'\n",
    "last = re.sub(dine_pattern + '(?=' + dine_pattern + ')', '', sample)\n",
    "l"
   ]
  },
  {
   "cell_type": "code",
   "execution_count": 9,
   "metadata": {},
   "outputs": [
    {
     "data": {
      "text/plain": [
       "'testtest2'"
      ]
     },
     "execution_count": 9,
     "metadata": {},
     "output_type": "execute_result"
    }
   ],
   "source": [
    "r'test' + r'test2'"
   ]
  },
  {
   "cell_type": "code",
   "execution_count": 15,
   "metadata": {
    "scrolled": true
   },
   "outputs": [
    {
     "data": {
      "text/plain": [
       "'(\\\\w+\\\\s\\\\(\\\\w{2,3}\\\\))?\\\\s+([a-zA-Z]{2,3})\\\\s([\\\\d]+\\\\w?)\\\\s([^\\\\d]+)\\\\(\\\\d\\\\)\\\\s+(.+?)(?=(\\\\w+\\\\s\\\\(\\\\w{2,3}\\\\))?\\\\s+([a-zA-Z]{2,3})\\\\s([\\\\d]+\\\\w?)\\\\s([^\\\\d]+)\\\\(\\\\d\\\\)\\\\s+(.+?))'"
      ]
     },
     "execution_count": 15,
     "metadata": {},
     "output_type": "execute_result"
    }
   ],
   "source": [
    "dine_pattern + r'(?=' + dine_pattern + r')'"
   ]
  },
  {
   "cell_type": "code",
   "execution_count": 33,
   "metadata": {
    "scrolled": true
   },
   "outputs": [
    {
     "data": {
      "text/plain": [
       "('ACCOUNTING (ACC)',\n",
       " 'ACC',\n",
       " '100',\n",
       " 'Fundamentals of Accounting ',\n",
       " 'Prerequisite:     This course is an introduction to accounting fundamentals. It includes journalizing, posting, worksheets,  financial reports, and data processing for accounting. One hour laboratory required.   ACC 200 Financial Accounting (3)      This course covers the theory and practice of accounting in services and merchandising firms. It  emphasizes the accounting cycle, periodic reporting, receivables, payables, inventories, and accounting  systems . One hour laboratory required.   ACC 201 Managerial Accounting (3)      This course is a continuation of ACC 200 with emphasis on manufacturing firms, and managerial  approaches for decision - making. One hour laborato ry required.   ACC 310 Government and Non - Profit   Accounting (3)   Prerequisite: Minimu  .   This course covers the theory and practice of accounting for governmental and not - for - profit units.  Topics include financial reporting; budgetary a ccounting; fund accounts; and nonprofit accounting for  entities such as public colleges, universities and health care providers .   ACC 350 Finance (3)    ACC 310,  BUS 265, ECO 200 or 201.   Introduction to the theories and applications associated with the functions of capital markets. This  includes the conceptual foundations of portfolio theory, risk management, and asset valuation. This  course will examine the markets for equity, money, and  bonds. One hour laboratory required.   AGRICULTURE (AGR)   AGR 103 Conservation Planning (4)   This course introduces students to the understanding natural resource conservation issues and concerns  to allow them to develop conservation plans necessary to improve   natural resource conditions applicable  to tribal lands.   AGR 105 Int roduction to Animal Science (4)   This course will introduce students to animal and livestock industries, production, systems and markets.  Students will not only learn about national product ion but include Navajo Nation livestock industry.  ',\n",
       " '',\n",
       " 'AGR',\n",
       " '110',\n",
       " 'Monitoring/Assessments and Rangeland Management ')"
      ]
     },
     "execution_count": 33,
     "metadata": {},
     "output_type": "execute_result"
    }
   ],
   "source": [
    "sample\n",
    "re.findall(dine_pattern + r'(.+)(?=' + dine_pattern + r')', sample)[0]"
   ]
  },
  {
   "cell_type": "code",
   "execution_count": 65,
   "metadata": {},
   "outputs": [
    {
     "name": "stdout",
     "output_type": "stream",
     "text": [
      "True\n"
     ]
    }
   ],
   "source": [
    "if not None:\n",
    "    print(True)"
   ]
  },
  {
   "cell_type": "code",
   "execution_count": null,
   "metadata": {},
   "outputs": [],
   "source": []
  }
 ],
 "metadata": {
  "kernelspec": {
   "display_name": "Python 3",
   "language": "python",
   "name": "python3"
  },
  "language_info": {
   "codemirror_mode": {
    "name": "ipython",
    "version": 3
   },
   "file_extension": ".py",
   "mimetype": "text/x-python",
   "name": "python",
   "nbconvert_exporter": "python",
   "pygments_lexer": "ipython3",
   "version": "3.6.9"
  }
 },
 "nbformat": 4,
 "nbformat_minor": 4
}
